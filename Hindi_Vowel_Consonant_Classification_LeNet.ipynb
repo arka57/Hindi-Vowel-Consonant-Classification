{
  "cells": [
    {
      "cell_type": "markdown",
      "metadata": {
        "id": "view-in-github",
        "colab_type": "text"
      },
      "source": [
        "<a href=\"https://colab.research.google.com/github/arka57/Hindi-Vowel-Consonant-Classification/blob/main/Hindi_Vowel_Consonant_Classification_LeNet.ipynb\" target=\"_parent\"><img src=\"https://colab.research.google.com/assets/colab-badge.svg\" alt=\"Open In Colab\"/></a>"
      ]
    },
    {
      "cell_type": "code",
      "execution_count": null,
      "metadata": {
        "id": "36h1XGpd86fI"
      },
      "outputs": [],
      "source": [
        "#importing libraries"
      ]
    },
    {
      "cell_type": "code",
      "execution_count": 1,
      "metadata": {
        "colab": {
          "base_uri": "https://localhost:8080/"
        },
        "id": "b3xWmaHUAkSq",
        "outputId": "6de77f1f-b228-4369-cb8d-302fed23b679"
      },
      "outputs": [
        {
          "output_type": "stream",
          "name": "stdout",
          "text": [
            "Mounted at /gdrive\n",
            "/gdrive\n"
          ]
        }
      ],
      "source": [
        "from google.colab import drive\n",
        "drive.mount('/gdrive')\n",
        "%cd /gdrive"
      ]
    },
    {
      "cell_type": "code",
      "execution_count": 2,
      "metadata": {
        "colab": {
          "base_uri": "https://localhost:8080/"
        },
        "id": "gjbAbIP-Q0E8",
        "outputId": "6025b5ad-e578-4ce4-878e-41f8cbfe2f7b"
      },
      "outputs": [
        {
          "output_type": "stream",
          "name": "stdout",
          "text": [
            "/gdrive/MyDrive/DL/project/Hindi_Vowel_Consonant\n"
          ]
        }
      ],
      "source": [
        "cd MyDrive/DL/project/Hindi_Vowel_Consonant"
      ]
    },
    {
      "cell_type": "code",
      "execution_count": 3,
      "metadata": {
        "colab": {
          "base_uri": "https://localhost:8080/"
        },
        "id": "z4sWjd6HRBNw",
        "outputId": "4756afae-8cc9-4698-cc49-94f19add0251"
      },
      "outputs": [
        {
          "output_type": "stream",
          "name": "stdout",
          "text": [
            "\u001b[0m\u001b[01;34mtest\u001b[0m/  test.zip  \u001b[01;34mtrain\u001b[0m/  train.zip\n"
          ]
        }
      ],
      "source": [
        "ls"
      ]
    },
    {
      "cell_type": "code",
      "execution_count": null,
      "metadata": {
        "id": "UzfLZPgT8qgh"
      },
      "outputs": [],
      "source": [
        "!unzip train.zip"
      ]
    },
    {
      "cell_type": "code",
      "execution_count": null,
      "metadata": {
        "id": "a-uPpnY0Rg7M"
      },
      "outputs": [],
      "source": [
        "!unzip test.zip"
      ]
    },
    {
      "cell_type": "code",
      "execution_count": null,
      "metadata": {
        "colab": {
          "base_uri": "https://localhost:8080/"
        },
        "id": "fUhyOh-H-OHL",
        "outputId": "ccc1b3b2-ab4f-4f6d-e7fc-780b04a7907e"
      },
      "outputs": [
        {
          "name": "stdout",
          "output_type": "stream",
          "text": [
            "\u001b[0m\u001b[01;34mtest\u001b[0m/  test.zip  \u001b[01;34mtrain\u001b[0m/  train.zip\n"
          ]
        }
      ],
      "source": [
        "ls"
      ]
    },
    {
      "cell_type": "code",
      "execution_count": null,
      "metadata": {
        "id": "VveuQcY--Xca"
      },
      "outputs": [],
      "source": [
        "#Code for making the image data in tensor form"
      ]
    },
    {
      "cell_type": "code",
      "execution_count": 4,
      "metadata": {
        "id": "ykerTJgC-Xvj"
      },
      "outputs": [],
      "source": [
        "import os\n",
        "from PIL import Image\n",
        "import matplotlib.pyplot as plt\n",
        "\n",
        "import torch\n",
        "import torchvision\n",
        "from torch.utils.data import DataLoader, Dataset, random_split\n",
        "import torchvision.transforms as transforms\n",
        "\n",
        "#For converting the dataset to torchvision dataset format\n",
        "class VowelConsonantDataset(Dataset):\n",
        "    def __init__(self, file_path,train=True,transform=None):\n",
        "        self.transform = transform\n",
        "        self.file_path=file_path\n",
        "        self.train=train\n",
        "        self.file_names=[file for _,_,files in os.walk(self.file_path) for file in files]\n",
        "        self.len = len(self.file_names)\n",
        "        if self.train:\n",
        "            self.classes_mapping=self.get_classes()\n",
        "    def __len__(self):\n",
        "        return len(self.file_names)\n",
        "    \n",
        "    def __getitem__(self, index):\n",
        "        file_name=self.file_names[index]\n",
        "        image_data=self.pil_loader(self.file_path+\"/\"+file_name)\n",
        "        if self.transform:\n",
        "            image_data = self.transform(image_data)\n",
        "        if self.train:\n",
        "            file_name_splitted=file_name.split(\"_\")\n",
        "            Y1 = self.classes_mapping[file_name_splitted[0]]\n",
        "            Y2 = self.classes_mapping[file_name_splitted[1]]\n",
        "            z1,z2=torch.zeros(10),torch.zeros(10)\n",
        "            z1[Y1-10],z2[Y2]=1,1\n",
        "            label=torch.stack([z1,z2])\n",
        "\n",
        "            return image_data, label\n",
        "\n",
        "        else:\n",
        "            return image_data, file_name\n",
        "          \n",
        "    def pil_loader(self,path):\n",
        "        with open(path, 'rb') as f:\n",
        "            img = Image.open(f)\n",
        "            return img.convert('RGB')\n",
        "\n",
        "      \n",
        "    def get_classes(self):\n",
        "        classes=[]\n",
        "        for name in self.file_names:\n",
        "            name_splitted=name.split(\"_\")\n",
        "            classes.extend([name_splitted[0],name_splitted[1]])\n",
        "        classes=list(set(classes))\n",
        "        classes_mapping={}\n",
        "        for i,cl in enumerate(sorted(classes)):\n",
        "            classes_mapping[cl]=i\n",
        "        return classes_mapping"
      ]
    },
    {
      "cell_type": "code",
      "execution_count": 5,
      "metadata": {
        "id": "kZ1emsf8-asr"
      },
      "outputs": [],
      "source": [
        "import torch\n",
        "import torch.nn as nn\n",
        "import torch.nn.functional as F\n",
        "import torch.optim as optim\n",
        "\n",
        "import torchvision\n",
        "import matplotlib.pyplot as plt\n",
        "from torchvision import datasets\n",
        "\n",
        "import torchvision.transforms as transforms\n",
        "\n",
        "import numpy as np\n",
        "import pandas as pd\n",
        "\n",
        "train_on_gpu = torch.cuda.is_available()"
      ]
    },
    {
      "cell_type": "code",
      "execution_count": 6,
      "metadata": {
        "id": "3sHpTv14-hjA"
      },
      "outputs": [],
      "source": [
        "transform = transforms.Compose([\n",
        "    transforms.ToTensor()])"
      ]
    },
    {
      "cell_type": "code",
      "execution_count": 7,
      "metadata": {
        "id": "ZjDeJZg7-_Wl"
      },
      "outputs": [],
      "source": [
        "#Splitting of data into train,validation and test set"
      ]
    },
    {
      "cell_type": "code",
      "execution_count": 8,
      "metadata": {
        "id": "qsYm-R6_-lEi"
      },
      "outputs": [],
      "source": [
        "full_data = VowelConsonantDataset(\"./train\",train=True,transform=transform)\n",
        "train_size = int(0.9 * len(full_data))\n",
        "test_size = len(full_data) - train_size\n",
        "\n",
        "train_data, validation_data = random_split(full_data, [train_size, test_size])\n",
        "\n",
        "train_loader = torch.utils.data.DataLoader(train_data, batch_size=4, shuffle=True)\n",
        "validation_loader = torch.utils.data.DataLoader(validation_data, batch_size=4, shuffle=True)\n"
      ]
    },
    {
      "cell_type": "code",
      "execution_count": 9,
      "metadata": {
        "id": "eyThQghj-o6h"
      },
      "outputs": [],
      "source": [
        "test_data = VowelConsonantDataset(\"./test\",train=False,transform=transform)\n",
        "test_loader = torch.utils.data.DataLoader(test_data, batch_size=4,shuffle=False)"
      ]
    },
    {
      "cell_type": "code",
      "execution_count": 10,
      "metadata": {
        "colab": {
          "base_uri": "https://localhost:8080/"
        },
        "id": "7FZmgOAC_FjK",
        "outputId": "ad76e26f-9820-4eeb-d5e6-212d3528e5d8"
      },
      "outputs": [
        {
          "output_type": "execute_result",
          "data": {
            "text/plain": [
              "torch.utils.data.dataset.Subset"
            ]
          },
          "metadata": {},
          "execution_count": 10
        }
      ],
      "source": [
        "type(train_data)"
      ]
    },
    {
      "cell_type": "code",
      "execution_count": 11,
      "metadata": {
        "colab": {
          "base_uri": "https://localhost:8080/"
        },
        "id": "Rr1iTOQnW1wu",
        "outputId": "8e08f62a-48bb-4ccd-df25-06b2cc4c31ec"
      },
      "outputs": [
        {
          "output_type": "stream",
          "name": "stdout",
          "text": [
            "torch.Size([4, 3, 64, 64])\n",
            "torch.Size([3, 64, 64])\n"
          ]
        }
      ],
      "source": [
        "dataiter=iter(train_loader)\n",
        "images,labels=dataiter.next()\n",
        "print(images.shape)\n",
        "print(images[0].shape)"
      ]
    },
    {
      "cell_type": "code",
      "execution_count": 12,
      "metadata": {
        "id": "CtEb0giaXXpZ"
      },
      "outputs": [],
      "source": [
        "#image dimesnion: 3X64X64"
      ]
    },
    {
      "cell_type": "code",
      "execution_count": 13,
      "metadata": {
        "id": "ks6VCZq2_MyR"
      },
      "outputs": [],
      "source": [
        "#First Model Applied--LeNet"
      ]
    },
    {
      "cell_type": "code",
      "execution_count": 14,
      "metadata": {
        "id": "1g2NoaEb_cdy"
      },
      "outputs": [],
      "source": [
        "class LeNet(nn.Module):\n",
        "    def __init__(self):\n",
        "        super(LeNet,self).__init__()\n",
        "        self.cnn_model=nn.Sequential(\n",
        "            nn.Conv2d(3,6,(5,5)),               #(3,64,64)--->(6,60,60)\n",
        "            nn.AvgPool2d(2,stride=2),           #(6,60,60)--->(6,30,30)\n",
        "            nn.ReLU(),\n",
        "            nn.Conv2d(6,16,(5,5)),              #(6,30,30)--->(16,26,26)\n",
        "            nn.AvgPool2d(2,stride=2),           #(16,26,26)--->(16,13,13)\n",
        "            nn.ReLU()\n",
        "\n",
        "        )\n",
        "        self.vowel_model=nn.Sequential(         #Vowel part--fully connected layers\n",
        "            nn.Linear(2704,256),\n",
        "            nn.ReLU(),\n",
        "            nn.Linear(256,120),\n",
        "            nn.ReLU(),\n",
        "            nn.Linear(120,84),\n",
        "            nn.ReLU(),\n",
        "            nn.Linear(84,10)\n",
        "        )    \n",
        "        self.consonant_model=nn.Sequential(     #Consonant part--fully connected layers\n",
        "            nn.Linear(2704,256),\n",
        "            nn.ReLU(),\n",
        "            nn.Linear(256,120),\n",
        "            nn.ReLU(),\n",
        "            nn.Linear(120,84),\n",
        "            nn.ReLU(),\n",
        "            nn.Linear(84,10)\n",
        "        )  \n",
        "\n",
        "    def forward(self,x):\n",
        "        x=self.cnn_model(x)\n",
        "        x=x.view(x.size(0),-1)\n",
        "        v1=self.vowel_model(x)\n",
        "        c1=self.consonant_model(x)\n",
        "        return v1,c1                        #returning vowel,consonant\n",
        "\n",
        "\n",
        "\n",
        "\n",
        "        "
      ]
    },
    {
      "cell_type": "code",
      "execution_count": 31,
      "metadata": {
        "id": "z3IrjNi_ly98",
        "colab": {
          "base_uri": "https://localhost:8080/"
        },
        "outputId": "e61f0a61-39dd-4483-b365-ec6e17cba240"
      },
      "outputs": [
        {
          "output_type": "stream",
          "name": "stdout",
          "text": [
            "<built-in method type of Tensor object at 0x7f065e992e90>\n"
          ]
        }
      ],
      "source": [
        "#Learning Algo\n",
        "\n",
        "\n",
        "for j,data in enumerate(train_loader,0):\n",
        "    if(j==1):\n",
        "        images,labels=data\n",
        "        print(images.type)\n",
        "        break    \n",
        "#print(data[0])    "
      ]
    },
    {
      "cell_type": "code",
      "execution_count": 16,
      "metadata": {
        "colab": {
          "base_uri": "https://localhost:8080/"
        },
        "id": "YdEnAj0Tnxfx",
        "outputId": "06937782-7a8c-4573-d28d-8aeb2416b426"
      },
      "outputs": [
        {
          "output_type": "stream",
          "name": "stdout",
          "text": [
            "torch.Size([4, 3, 64, 64])\n"
          ]
        }
      ],
      "source": [
        "print(data[0].shape)"
      ]
    },
    {
      "cell_type": "code",
      "execution_count": 17,
      "metadata": {
        "colab": {
          "base_uri": "https://localhost:8080/"
        },
        "id": "987WzJydo063",
        "outputId": "d847e6c6-4610-4f77-852a-a5d349c30e06"
      },
      "outputs": [
        {
          "output_type": "stream",
          "name": "stdout",
          "text": [
            "torch.Size([3, 64, 64])\n",
            "torch.Size([2, 10])\n"
          ]
        }
      ],
      "source": [
        "print(images[0].shape)\n",
        "print(labels[0].shape)"
      ]
    },
    {
      "cell_type": "code",
      "execution_count": 18,
      "metadata": {
        "id": "2oHPIItupDxQ"
      },
      "outputs": [],
      "source": [
        "for _,i in enumerate(labels,0):\n",
        "    vowel,consonant=i"
      ]
    },
    {
      "cell_type": "markdown",
      "metadata": {
        "id": "ZWtpT5rTpDia"
      },
      "source": []
    },
    {
      "cell_type": "code",
      "execution_count": 19,
      "metadata": {
        "colab": {
          "base_uri": "https://localhost:8080/"
        },
        "id": "ReuEKLOCpSWZ",
        "outputId": "516c1c40-85c8-45ab-d1ac-4a0e921820bf"
      },
      "outputs": [
        {
          "output_type": "stream",
          "name": "stdout",
          "text": [
            "torch.Size([10])\n",
            "torch.Size([10])\n"
          ]
        }
      ],
      "source": [
        "print(vowel.shape)\n",
        "print(consonant.shape)"
      ]
    },
    {
      "cell_type": "code",
      "execution_count": 20,
      "metadata": {
        "colab": {
          "base_uri": "https://localhost:8080/"
        },
        "id": "9WnzE5OApj4E",
        "outputId": "976d58a9-bd4e-492f-88fa-1179c2875782"
      },
      "outputs": [
        {
          "output_type": "stream",
          "name": "stdout",
          "text": [
            "tensor([0., 1., 0., 0., 0., 0., 0., 0., 0., 0.])\n"
          ]
        }
      ],
      "source": [
        "print(vowel)"
      ]
    },
    {
      "cell_type": "code",
      "execution_count": 21,
      "metadata": {
        "id": "c58vuKs3szVJ"
      },
      "outputs": [],
      "source": [
        "#instantiating network"
      ]
    },
    {
      "cell_type": "code",
      "execution_count": 22,
      "metadata": {
        "colab": {
          "base_uri": "https://localhost:8080/"
        },
        "id": "_O1U8BsCBUJ8",
        "outputId": "0a43dd8f-a38d-4515-cfd3-0923749a8044"
      },
      "outputs": [
        {
          "output_type": "stream",
          "name": "stdout",
          "text": [
            "cuda:0\n"
          ]
        }
      ],
      "source": [
        "device = torch.device(\"cuda:0\" if torch.cuda.is_available() else \"cpu\")\n",
        "print(device)"
      ]
    },
    {
      "cell_type": "code",
      "execution_count": 23,
      "metadata": {
        "id": "IMasLWozs3UB"
      },
      "outputs": [],
      "source": [
        "net=LeNet().to(device)\n",
        "opt=optim.Adam(net.parameters(),weight_decay=0.01)\n",
        "loss_fn=nn.CrossEntropyLoss()"
      ]
    },
    {
      "cell_type": "code",
      "execution_count": 24,
      "metadata": {
        "id": "-QpaqImDtNoM"
      },
      "outputs": [],
      "source": [
        "#Evaluation Function"
      ]
    },
    {
      "cell_type": "code",
      "source": [
        "def evaluation(dataloader):\n",
        "    total=0\n",
        "    correct=0\n",
        "    for i in dataloader:\n",
        "        images,labels=i\n",
        "        #print(\"images shape:\",images.shape)\n",
        "        #print(\"labels shape\",labels.shape)\n",
        "        images,labels=images.to(device),labels.to(device)\n",
        "        \n",
        "\n",
        "        vowel_label,consonant_label=labels[:,0,:],labels[:,1,:]\n",
        "        _,vowel_label=torch.max(vowel_label,1)\n",
        "        _,consonant_label=torch.max(consonant_label,1)\n",
        "        #print(\"vowel_label shape\",vowel_label.shape)\n",
        "        #print(\"consonant_label shape\",consonant_label.shape)    \n",
        "        vowel,consonant=net(images)\n",
        "        #print(\"vowel shape\",vowel.shape)\n",
        "        #print(\"consonant shape\",consonant.shape) \n",
        "        _,vowel_pred=torch.max(vowel,1)\n",
        "        _,consonant_pred=torch.max(consonant,1)\n",
        "        #print(\"vowel_pred shape\",vowel_pred.shape)\n",
        "        #print(\"consonant_pred shape\",consonant_pred.shape) \n",
        "        total+=labels.size(0)\n",
        "        correct_v=(vowel_pred==vowel_label)\n",
        "        correct_c=(consonant_pred==consonant_label)\n",
        "        correct+=(correct_v+correct_c).sum().item()\n",
        "    return (correct/total)*100"
      ],
      "metadata": {
        "id": "Q76FSRgcdWW2"
      },
      "execution_count": 28,
      "outputs": []
    },
    {
      "cell_type": "code",
      "execution_count": 25,
      "metadata": {
        "id": "thUEaZk_tQs1"
      },
      "outputs": [],
      "source": [
        "def evaluation(dataloader):\n",
        "    total=0\n",
        "    correct=0\n",
        "    for i in dataloader:\n",
        "        images,labels=i\n",
        "        images,labels=images.to(device),labels.to(device)\n",
        "        for j in labels:\n",
        "            vowel_label,consonant_label=j\n",
        "        vowel,consonant=net.forward(images)\n",
        "        _,vowel_pred=torch.max(vowel,1)\n",
        "        _,consonant_pred=torch.max(consonant,1)\n",
        "        total+=labels.size(0)\n",
        "        correct+=((vowel_pred==vowel_label) and (consonant_pred==consonant_label)).sum().item()\n",
        "    return (correct/total)*100"
      ]
    },
    {
      "cell_type": "code",
      "source": [
        "import copy"
      ],
      "metadata": {
        "id": "9WI2sIsehaTQ"
      },
      "execution_count": 32,
      "outputs": []
    },
    {
      "cell_type": "code",
      "execution_count": 26,
      "metadata": {
        "id": "Y1VmLPpZqzSE"
      },
      "outputs": [],
      "source": [
        "#Learning Algo"
      ]
    },
    {
      "cell_type": "code",
      "source": [
        "%%time\n",
        "loss_epoch=[]\n",
        "epochs=16\n",
        "min_loss=1000\n",
        "\n",
        "for i in range(epochs):\n",
        "    for j,data in enumerate(train_loader,0):\n",
        "        input,labels=data\n",
        "        input,labels=input.to(device),labels.to(device)\n",
        "        #print(input.shape)            #(32,3,224,224)\n",
        "        #print(labels.shape)           #(32,2,10)\n",
        "        \n",
        "        \n",
        "        vowel_label,consonant_label=labels[:,0,:],labels[:,1,:]\n",
        "        \n",
        "        vowel,consonant=net.forward(input)\n",
        "        #print(vowel_label.shape)      #(32,10)\n",
        "        #print(consonant_label.shape)  #(32,10)\n",
        "        #print(vowel.shape)            #(32,10)\n",
        "        #print(consonant.shape)        #(32,10)\n",
        "        lossV=loss_fn(vowel,vowel_label)\n",
        "        lossC=loss_fn(consonant,consonant_label)\n",
        "        loss=lossV+lossC\n",
        "        loss.backward()\n",
        "\n",
        "        opt.step()\n",
        "        opt.zero_grad()\n",
        "\n",
        "        if min_loss> loss :\n",
        "            min_loss=loss\n",
        "            best_model = copy.deepcopy(net.state_dict())\n",
        "\n",
        "        if(j%100==0):\n",
        "            print('Loss %0.2f'%loss.item())\n",
        "        del vowel,consonant,labels,input\n",
        "        torch.cuda.empty_cache()\n",
        "        \n",
        "    loss_epoch.append(loss.item())\n",
        "    print('Epoch %d/%d, Training Accuaracy %0.2f, Test Accuracy %0.2f' % (i,epochs,evaluation(train_loader),evaluation(validation_loader))) \n",
        "\n",
        "net.load_state_dict(best_model)\n",
        "plt.plot(loss_epoch)\n",
        "plt.xlabel('epoch')\n",
        "plt.ylabel('loss')\n",
        "plt.show()"
      ],
      "metadata": {
        "colab": {
          "base_uri": "https://localhost:8080/",
          "height": 1000
        },
        "id": "ctdZTVCJhVT2",
        "outputId": "4d699b04-dca8-4438-a8d8-be6180cc457c"
      },
      "execution_count": 33,
      "outputs": [
        {
          "output_type": "stream",
          "name": "stdout",
          "text": [
            "Loss 4.60\n",
            "Loss 4.59\n",
            "Loss 4.61\n",
            "Loss 4.62\n",
            "Loss 4.60\n",
            "Loss 4.61\n",
            "Loss 4.60\n",
            "Loss 4.63\n",
            "Loss 4.61\n",
            "Loss 4.63\n",
            "Loss 4.60\n",
            "Loss 4.62\n",
            "Loss 4.61\n",
            "Loss 4.62\n",
            "Loss 4.62\n",
            "Loss 4.61\n",
            "Loss 4.62\n",
            "Loss 4.61\n",
            "Loss 4.61\n",
            "Loss 4.62\n",
            "Loss 4.59\n",
            "Loss 4.59\n",
            "Loss 4.60\n",
            "Epoch 0/16, Training Accuaracy 19.24, Test Accuracy 16.80\n",
            "Loss 4.62\n",
            "Loss 4.60\n",
            "Loss 4.62\n",
            "Loss 4.61\n",
            "Loss 4.62\n",
            "Loss 4.60\n",
            "Loss 4.62\n",
            "Loss 4.61\n",
            "Loss 4.59\n",
            "Loss 4.59\n",
            "Loss 4.61\n",
            "Loss 4.61\n",
            "Loss 4.61\n",
            "Loss 4.60\n",
            "Loss 4.62\n",
            "Loss 4.63\n",
            "Loss 4.61\n",
            "Loss 4.61\n",
            "Loss 4.60\n",
            "Loss 4.63\n",
            "Loss 4.62\n",
            "Loss 4.61\n",
            "Loss 4.62\n",
            "Epoch 1/16, Training Accuaracy 19.06, Test Accuracy 18.50\n",
            "Loss 4.62\n",
            "Loss 4.63\n",
            "Loss 4.62\n",
            "Loss 4.61\n",
            "Loss 4.61\n",
            "Loss 4.62\n",
            "Loss 4.59\n",
            "Loss 4.60\n",
            "Loss 4.60\n",
            "Loss 4.61\n",
            "Loss 4.59\n",
            "Loss 4.59\n",
            "Loss 4.61\n",
            "Loss 4.60\n",
            "Loss 4.60\n",
            "Loss 4.60\n",
            "Loss 4.60\n",
            "Loss 4.62\n",
            "Loss 4.57\n",
            "Loss 4.62\n",
            "Loss 4.61\n",
            "Loss 4.59\n",
            "Loss 4.60\n",
            "Epoch 2/16, Training Accuaracy 19.11, Test Accuracy 18.00\n",
            "Loss 4.60\n",
            "Loss 4.62\n",
            "Loss 4.62\n",
            "Loss 4.60\n",
            "Loss 4.61\n",
            "Loss 4.61\n",
            "Loss 4.60\n",
            "Loss 4.59\n",
            "Loss 4.60\n",
            "Loss 4.64\n",
            "Loss 4.60\n",
            "Loss 4.63\n",
            "Loss 4.62\n",
            "Loss 4.62\n",
            "Loss 4.62\n",
            "Loss 4.60\n",
            "Loss 4.60\n",
            "Loss 4.60\n",
            "Loss 4.60\n",
            "Loss 4.60\n",
            "Loss 4.60\n",
            "Loss 4.59\n",
            "Loss 4.60\n",
            "Epoch 3/16, Training Accuaracy 19.00, Test Accuracy 19.00\n",
            "Loss 4.58\n",
            "Loss 4.61\n",
            "Loss 4.62\n",
            "Loss 4.61\n",
            "Loss 4.63\n",
            "Loss 4.61\n",
            "Loss 4.58\n",
            "Loss 4.62\n",
            "Loss 4.64\n",
            "Loss 4.59\n",
            "Loss 4.60\n",
            "Loss 4.61\n",
            "Loss 4.61\n",
            "Loss 4.58\n",
            "Loss 4.61\n",
            "Loss 4.61\n",
            "Loss 4.61\n",
            "Loss 4.59\n",
            "Loss 4.61\n",
            "Loss 4.61\n",
            "Loss 4.63\n",
            "Loss 4.60\n",
            "Loss 4.61\n",
            "Epoch 4/16, Training Accuaracy 19.20, Test Accuracy 17.20\n",
            "Loss 4.60\n",
            "Loss 4.61\n",
            "Loss 4.60\n",
            "Loss 4.62\n",
            "Loss 4.59\n",
            "Loss 4.59\n",
            "Loss 4.61\n",
            "Loss 4.61\n",
            "Loss 4.60\n",
            "Loss 4.64\n",
            "Loss 4.62\n",
            "Loss 4.58\n",
            "Loss 4.63\n",
            "Loss 4.62\n",
            "Loss 4.59\n",
            "Loss 4.58\n",
            "Loss 4.61\n",
            "Loss 4.62\n",
            "Loss 4.59\n",
            "Loss 4.60\n",
            "Loss 4.61\n",
            "Loss 4.61\n",
            "Loss 4.63\n",
            "Epoch 5/16, Training Accuaracy 19.07, Test Accuracy 18.40\n",
            "Loss 4.61\n",
            "Loss 4.61\n",
            "Loss 4.60\n",
            "Loss 4.61\n",
            "Loss 4.61\n",
            "Loss 4.61\n",
            "Loss 4.62\n",
            "Loss 4.60\n",
            "Loss 4.61\n",
            "Loss 4.61\n",
            "Loss 4.60\n",
            "Loss 4.60\n",
            "Loss 4.62\n",
            "Loss 4.63\n",
            "Loss 4.61\n",
            "Loss 4.60\n",
            "Loss 4.59\n",
            "Loss 4.61\n",
            "Loss 4.59\n",
            "Loss 4.61\n",
            "Loss 4.60\n",
            "Loss 4.61\n",
            "Loss 4.60\n",
            "Epoch 6/16, Training Accuaracy 19.24, Test Accuracy 16.80\n",
            "Loss 4.60\n",
            "Loss 4.58\n",
            "Loss 4.62\n",
            "Loss 4.59\n",
            "Loss 4.61\n",
            "Loss 4.64\n",
            "Loss 4.62\n",
            "Loss 4.62\n",
            "Loss 4.59\n",
            "Loss 4.60\n",
            "Loss 4.59\n",
            "Loss 4.62\n",
            "Loss 4.62\n",
            "Loss 4.61\n",
            "Loss 4.61\n",
            "Loss 4.61\n",
            "Loss 4.59\n",
            "Loss 4.63\n",
            "Loss 4.58\n",
            "Loss 4.60\n",
            "Loss 4.61\n",
            "Loss 4.59\n",
            "Loss 4.60\n",
            "Epoch 7/16, Training Accuaracy 18.96, Test Accuracy 19.40\n",
            "Loss 4.59\n",
            "Loss 4.62\n",
            "Loss 4.62\n",
            "Loss 4.59\n",
            "Loss 4.62\n",
            "Loss 4.58\n",
            "Loss 4.60\n",
            "Loss 4.58\n",
            "Loss 4.63\n",
            "Loss 4.61\n",
            "Loss 4.59\n",
            "Loss 4.64\n",
            "Loss 4.60\n",
            "Loss 4.61\n",
            "Loss 4.61\n",
            "Loss 4.60\n",
            "Loss 4.61\n",
            "Loss 4.62\n",
            "Loss 4.62\n",
            "Loss 4.60\n",
            "Loss 4.59\n",
            "Loss 4.62\n",
            "Loss 4.61\n",
            "Epoch 8/16, Training Accuaracy 19.07, Test Accuracy 18.40\n",
            "Loss 4.60\n",
            "Loss 4.60\n",
            "Loss 4.60\n",
            "Loss 4.60\n",
            "Loss 4.59\n",
            "Loss 4.59\n",
            "Loss 4.61\n",
            "Loss 4.57\n",
            "Loss 4.63\n",
            "Loss 4.63\n",
            "Loss 4.62\n",
            "Loss 4.61\n",
            "Loss 4.64\n",
            "Loss 4.62\n",
            "Loss 4.62\n",
            "Loss 4.62\n",
            "Loss 4.60\n",
            "Loss 4.59\n",
            "Loss 4.63\n",
            "Loss 4.61\n",
            "Loss 4.60\n",
            "Loss 4.62\n",
            "Loss 4.59\n",
            "Epoch 9/16, Training Accuaracy 18.94, Test Accuracy 19.50\n",
            "Loss 4.59\n",
            "Loss 4.61\n",
            "Loss 4.62\n",
            "Loss 4.61\n",
            "Loss 4.61\n",
            "Loss 4.61\n",
            "Loss 4.61\n",
            "Loss 4.59\n",
            "Loss 4.61\n",
            "Loss 4.61\n",
            "Loss 4.58\n",
            "Loss 4.61\n",
            "Loss 4.61\n",
            "Loss 4.61\n",
            "Loss 4.61\n",
            "Loss 4.60\n",
            "Loss 4.61\n",
            "Loss 4.60\n",
            "Loss 4.60\n",
            "Loss 4.61\n",
            "Loss 4.63\n",
            "Loss 4.62\n",
            "Loss 4.61\n",
            "Epoch 10/16, Training Accuaracy 18.97, Test Accuracy 19.30\n",
            "Loss 4.60\n",
            "Loss 4.62\n",
            "Loss 4.61\n",
            "Loss 4.59\n",
            "Loss 4.59\n",
            "Loss 4.63\n",
            "Loss 4.61\n",
            "Loss 4.60\n",
            "Loss 4.61\n",
            "Loss 4.60\n",
            "Loss 4.59\n",
            "Loss 4.60\n",
            "Loss 4.61\n",
            "Loss 4.59\n",
            "Loss 4.62\n",
            "Loss 4.60\n",
            "Loss 4.61\n",
            "Loss 4.61\n",
            "Loss 4.59\n",
            "Loss 4.60\n",
            "Loss 4.61\n",
            "Loss 4.61\n",
            "Loss 4.59\n",
            "Epoch 11/16, Training Accuaracy 19.19, Test Accuracy 17.30\n",
            "Loss 4.60\n",
            "Loss 4.61\n",
            "Loss 4.61\n",
            "Loss 4.59\n",
            "Loss 4.62\n",
            "Loss 4.58\n",
            "Loss 4.62\n",
            "Loss 4.59\n",
            "Loss 4.60\n",
            "Loss 4.61\n",
            "Loss 4.62\n",
            "Loss 4.58\n",
            "Loss 4.64\n",
            "Loss 4.60\n",
            "Loss 4.60\n",
            "Loss 4.61\n",
            "Loss 4.62\n",
            "Loss 4.60\n",
            "Loss 4.60\n",
            "Loss 4.59\n",
            "Loss 4.61\n",
            "Loss 4.61\n",
            "Loss 4.61\n",
            "Epoch 12/16, Training Accuaracy 19.17, Test Accuracy 17.50\n",
            "Loss 4.60\n",
            "Loss 4.59\n",
            "Loss 4.61\n",
            "Loss 4.59\n",
            "Loss 4.61\n",
            "Loss 4.59\n",
            "Loss 4.60\n",
            "Loss 4.62\n",
            "Loss 4.60\n",
            "Loss 4.60\n",
            "Loss 4.60\n",
            "Loss 4.57\n",
            "Loss 4.64\n",
            "Loss 4.59\n",
            "Loss 4.59\n",
            "Loss 4.60\n",
            "Loss 4.60\n",
            "Loss 4.60\n",
            "Loss 4.61\n",
            "Loss 4.62\n",
            "Loss 4.61\n",
            "Loss 4.61\n",
            "Loss 4.60\n",
            "Epoch 13/16, Training Accuaracy 19.11, Test Accuracy 18.00\n",
            "Loss 4.60\n",
            "Loss 4.59\n",
            "Loss 4.60\n",
            "Loss 4.58\n",
            "Loss 4.63\n",
            "Loss 4.61\n",
            "Loss 4.61\n",
            "Loss 4.58\n",
            "Loss 4.61\n",
            "Loss 4.60\n",
            "Loss 4.60\n",
            "Loss 4.60\n",
            "Loss 4.59\n",
            "Loss 4.60\n",
            "Loss 4.63\n",
            "Loss 4.60\n",
            "Loss 4.60\n",
            "Loss 4.61\n",
            "Loss 4.61\n",
            "Loss 4.59\n",
            "Loss 4.61\n",
            "Loss 4.60\n",
            "Loss 4.61\n",
            "Epoch 14/16, Training Accuaracy 19.20, Test Accuracy 17.20\n",
            "Loss 4.60\n",
            "Loss 4.60\n",
            "Loss 4.63\n",
            "Loss 4.63\n",
            "Loss 4.62\n",
            "Loss 4.62\n",
            "Loss 4.60\n",
            "Loss 4.61\n",
            "Loss 4.62\n",
            "Loss 4.60\n",
            "Loss 4.63\n",
            "Loss 4.62\n",
            "Loss 4.60\n",
            "Loss 4.61\n",
            "Loss 4.60\n",
            "Loss 4.62\n",
            "Loss 4.61\n",
            "Loss 4.59\n",
            "Loss 4.62\n",
            "Loss 4.62\n",
            "Loss 4.59\n",
            "Loss 4.59\n",
            "Loss 4.59\n",
            "Epoch 15/16, Training Accuaracy 19.24, Test Accuracy 16.80\n"
          ]
        },
        {
          "output_type": "display_data",
          "data": {
            "text/plain": [
              "<Figure size 432x288 with 1 Axes>"
            ],
            "image/png": "[encoded data removed]"
          },
          "metadata": {
            "needs_background": "light"
          }
        },
        {
          "output_type": "stream",
          "name": "stdout",
          "text": [
            "CPU times: user 7min 28s, sys: 38 s, total: 8min 6s\n",
            "Wall time: 11min 12s\n"
          ]
        }
      ]
    }
  ],
  "metadata": {
    "accelerator": "GPU",
    "colab": {
      "provenance": [],
      "authorship_tag": "ABX9TyMHvgrR1e5LgkB6kaGxIpNM",
      "include_colab_link": true
    },
    "kernelspec": {
      "display_name": "Python 3",
      "name": "python3"
    },
    "language_info": {
      "name": "python"
    }
  },
  "nbformat": 4,
  "nbformat_minor": 0
}