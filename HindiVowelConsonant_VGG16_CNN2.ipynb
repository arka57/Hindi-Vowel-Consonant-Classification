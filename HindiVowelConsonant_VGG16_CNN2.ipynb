{
  "cells": [
    {
      "cell_type": "markdown",
      "metadata": {
        "id": "view-in-github",
        "colab_type": "text"
      },
      "source": [
        "<a href=\"https://colab.research.google.com/github/arka57/Hindi-Vowel-Consonant-Classification/blob/main/HindiVowelConsonant_VGG16_CNN2.ipynb\" target=\"_parent\"><img src=\"https://colab.research.google.com/assets/colab-badge.svg\" alt=\"Open In Colab\"/></a>"
      ]
    },
    {
      "cell_type": "code",
      "execution_count": null,
      "metadata": {
        "id": "Ugtrbs71Jnhr"
      },
      "outputs": [],
      "source": [
        "import torchvision.models as models\n",
        "import torch.nn as nn\n",
        "import copy"
      ]
    },
    {
      "cell_type": "code",
      "execution_count": null,
      "metadata": {
        "id": "LGnvasSmc5iM"
      },
      "outputs": [],
      "source": [
        "#Creating the class"
      ]
    },
    {
      "cell_type": "code",
      "execution_count": null,
      "metadata": {
        "id": "a4_Mdx2sPWFL"
      },
      "outputs": [],
      "source": [
        "#Code for converting dataset into torch tensor"
      ]
    },
    {
      "cell_type": "code",
      "execution_count": null,
      "metadata": {
        "id": "Us0aR_LrPcRH"
      },
      "outputs": [],
      "source": [
        "import os\n",
        "from PIL import Image\n",
        "import matplotlib.pyplot as plt\n",
        "\n",
        "import torch\n",
        "import torchvision\n",
        "from torch.utils.data import DataLoader, Dataset, random_split\n",
        "import torchvision.transforms as transforms\n",
        "\n",
        "#For converting the dataset to torchvision dataset format\n",
        "class VowelConsonantDataset(Dataset):\n",
        "    def __init__(self, file_path,train=True,transform=None):\n",
        "        self.transform = transform\n",
        "        self.file_path=file_path\n",
        "        self.train=train\n",
        "        self.file_names=[file for _,_,files in os.walk(self.file_path) for file in files]\n",
        "        self.len = len(self.file_names)\n",
        "        if self.train:\n",
        "            self.classes_mapping=self.get_classes()\n",
        "    def __len__(self):\n",
        "        return len(self.file_names)\n",
        "    \n",
        "    def __getitem__(self, index):\n",
        "        file_name=self.file_names[index]\n",
        "        image_data=self.pil_loader(self.file_path+\"/\"+file_name)\n",
        "        if self.transform:\n",
        "            image_data = self.transform(image_data)\n",
        "        if self.train:\n",
        "            file_name_splitted=file_name.split(\"_\")\n",
        "            Y1 = self.classes_mapping[file_name_splitted[0]]\n",
        "            Y2 = self.classes_mapping[file_name_splitted[1]]\n",
        "            z1,z2=torch.zeros(10),torch.zeros(10)\n",
        "            z1[Y1-10],z2[Y2]=1,1\n",
        "            label=torch.stack([z1,z2])\n",
        "\n",
        "            return image_data, label\n",
        "\n",
        "        else:\n",
        "            return image_data, file_name\n",
        "          \n",
        "    def pil_loader(self,path):\n",
        "        with open(path, 'rb') as f:\n",
        "            img = Image.open(f)\n",
        "            return img.convert('RGB')\n",
        "\n",
        "      \n",
        "    def get_classes(self):\n",
        "        classes=[]\n",
        "        for name in self.file_names:\n",
        "            name_splitted=name.split(\"_\")\n",
        "            classes.extend([name_splitted[0],name_splitted[1]])\n",
        "        classes=list(set(classes))\n",
        "        classes_mapping={}\n",
        "        for i,cl in enumerate(sorted(classes)):\n",
        "            classes_mapping[cl]=i\n",
        "        return classes_mapping"
      ]
    },
    {
      "cell_type": "code",
      "execution_count": null,
      "metadata": {
        "id": "ZVAeFglOPyJi"
      },
      "outputs": [],
      "source": [
        "import torch\n",
        "import torch.nn as nn\n",
        "import torch.nn.functional as F\n",
        "import torch.optim as optim\n",
        "\n",
        "import torchvision\n",
        "import matplotlib.pyplot as plt\n",
        "from torchvision import datasets\n",
        "\n",
        "import torchvision.transforms as transforms\n",
        "\n",
        "import numpy as np\n",
        "import pandas as pd\n",
        "\n",
        "train_on_gpu = torch.cuda.is_available()"
      ]
    },
    {
      "cell_type": "code",
      "execution_count": null,
      "metadata": {
        "id": "t0y4Is7EP1YX"
      },
      "outputs": [],
      "source": [
        "transform = transforms.Compose([\n",
        "    transforms.Resize(224),\n",
        "    transforms.ToTensor(),\n",
        "    transforms.Normalize(mean=[0.485, 0.456, 0.406], std=[0.229, 0.224, 0.225])])"
      ]
    },
    {
      "cell_type": "code",
      "execution_count": null,
      "metadata": {
        "colab": {
          "base_uri": "https://localhost:8080/"
        },
        "id": "DJ4ymj09P2dh",
        "outputId": "ce482618-9d60-414f-820d-4ae97f6015d5"
      },
      "outputs": [
        {
          "output_type": "stream",
          "name": "stdout",
          "text": [
            "Mounted at /gdrive\n",
            "/gdrive\n"
          ]
        }
      ],
      "source": [
        "from google.colab import drive\n",
        "drive.mount('/gdrive')\n",
        "%cd /gdrive"
      ]
    },
    {
      "cell_type": "code",
      "execution_count": null,
      "metadata": {
        "colab": {
          "base_uri": "https://localhost:8080/"
        },
        "id": "24JekRiMQEO9",
        "outputId": "a5df4978-1197-4f6e-8f36-358aa8f42ab4"
      },
      "outputs": [
        {
          "output_type": "stream",
          "name": "stdout",
          "text": [
            "/gdrive/MyDrive/DL/project/Hindi_Vowel_Consonant\n"
          ]
        }
      ],
      "source": [
        "cd MyDrive/DL/project/Hindi_Vowel_Consonant"
      ]
    },
    {
      "cell_type": "markdown",
      "metadata": {
        "id": "-5RLQEV-P50d"
      },
      "source": []
    },
    {
      "cell_type": "code",
      "execution_count": null,
      "metadata": {
        "id": "suujPl8mQI7V"
      },
      "outputs": [],
      "source": [
        "full_data = VowelConsonantDataset(\"./train\",train=True,transform=transform)\n",
        "train_size = int(0.9 * len(full_data))\n",
        "test_size = len(full_data) - train_size\n",
        "\n",
        "train_data, validation_data = random_split(full_data, [train_size, test_size])\n",
        "\n",
        "train_loader = torch.utils.data.DataLoader(train_data, batch_size=32, shuffle=True)\n",
        "validation_loader = torch.utils.data.DataLoader(validation_data, batch_size=32, shuffle=True)"
      ]
    },
    {
      "cell_type": "code",
      "execution_count": null,
      "metadata": {
        "id": "2Q9xEk2zQe9O"
      },
      "outputs": [],
      "source": [
        "test_data = VowelConsonantDataset(\"./test\",train=False,transform=transform)\n",
        "test_loader = torch.utils.data.DataLoader(test_data, batch_size=32,shuffle=False)"
      ]
    },
    {
      "cell_type": "code",
      "source": [
        "resnet=models.resnet50(pretrained=True)"
      ],
      "metadata": {
        "colab": {
          "base_uri": "https://localhost:8080/",
          "height": 156,
          "referenced_widgets": [
            "5cb261ecf6a84939bd03bc07684eedbd",
            "fdfb748051e84d86865d0b31e91d7977",
            "6ec24f922260414ebae5dbf68e380e8b",
            "d7e8ea66980d4e5cb496b3d83f9b37c1",
            "3b05957d0e444997a231031ed54180b2",
            "39d4b4c41f974ec89c047b9a807b5ece",
            "fa156dd6fe384cea8c8d765e7f867bd0",
            "9d0e5db12720475ea1781391bdb5e459",
            "5ad7a7edb0f4482fa4e6d08ecd2df365",
            "d3178beb5a114a65a401be4f4c29bc39",
            "a58211129a9946a1b403e462a1f73e60"
          ]
        },
        "id": "4H6WAPjmve-P",
        "outputId": "7031c4aa-0e53-4851-f613-d8983cf9168e"
      },
      "execution_count": null,
      "outputs": [
        {
          "output_type": "stream",
          "name": "stderr",
          "text": [
            "/usr/local/lib/python3.7/dist-packages/torchvision/models/_utils.py:209: UserWarning: The parameter 'pretrained' is deprecated since 0.13 and will be removed in 0.15, please use 'weights' instead.\n",
            "  f\"The parameter '{pretrained_param}' is deprecated since 0.13 and will be removed in 0.15, \"\n",
            "/usr/local/lib/python3.7/dist-packages/torchvision/models/_utils.py:223: UserWarning: Arguments other than a weight enum or `None` for 'weights' are deprecated since 0.13 and will be removed in 0.15. The current behavior is equivalent to passing `weights=ResNet50_Weights.IMAGENET1K_V1`. You can also use `weights=ResNet50_Weights.DEFAULT` to get the most up-to-date weights.\n",
            "  warnings.warn(msg)\n",
            "Downloading: \"https://download.pytorch.org/models/resnet50-0676ba61.pth\" to /root/.cache/torch/hub/checkpoints/resnet50-0676ba61.pth\n"
          ]
        },
        {
          "output_type": "display_data",
          "data": {
            "text/plain": [
              "  0%|          | 0.00/97.8M [00:00<?, ?B/s]"
            ],
            "application/vnd.jupyter.widget-view+json": {
              "version_major": 2,
              "version_minor": 0,
              "model_id": "5cb261ecf6a84939bd03bc07684eedbd"
            }
          },
          "metadata": {}
        }
      ]
    },
    {
      "cell_type": "code",
      "execution_count": null,
      "metadata": {
        "id": "ZKcQftQYa3h2"
      },
      "outputs": [],
      "source": [
        "#modified_classifier=list(vgg16.classifier.children())[:-3]\n",
        "#print(modified_classifier)"
      ]
    },
    {
      "cell_type": "code",
      "execution_count": null,
      "metadata": {
        "id": "LfFbuFoHT0FW"
      },
      "outputs": [],
      "source": [
        "#model VGG16 with fully connected layer modified"
      ]
    },
    {
      "cell_type": "code",
      "execution_count": null,
      "metadata": {
        "id": "7sd6nTqWTwva"
      },
      "outputs": [],
      "source": [
        "class VC_vgg16(nn.Module):\n",
        "    def __init__(self):\n",
        "        super(VC_vgg16,self).__init__()\n",
        "        self.model_vgg16=models.vgg16_bn(pretrained=True)#inheriting the existing model\n",
        "        modified_classifier=list(self.model_vgg16.classifier.children())[:-3] #modifying the last layers\n",
        "        self.model_vgg16.classifier=nn.Sequential(*modified_classifier) #adding the changed layers in the model\n",
        "\n",
        "        self.v_model=nn.Sequential( #fully connected layer for vowel\n",
        "            nn.Linear(4096,2048),\n",
        "            nn.ReLU(),\n",
        "            nn.Linear(2048,512),\n",
        "            nn.ReLU(),\n",
        "            nn.Linear(512,128),\n",
        "            nn.ReLU(),\n",
        "            nn.Linear(128,10)\n",
        "\n",
        "        )\n",
        "        self.c_model=nn.Sequential( #fully connected layer for consonant\n",
        "            nn.Linear(4096,2048),\n",
        "            nn.ReLU(),\n",
        "            nn.Linear(2048,512),\n",
        "            nn.ReLU(),\n",
        "            nn.Linear(512,128),\n",
        "            nn.ReLU(),\n",
        "            nn.Linear(128,10)\n",
        "        )\n",
        "\n",
        "    def forward(self,x):\n",
        "        x=self.model_vgg16(x)\n",
        "        v=self.v_model(x)\n",
        "        c=self.c_model(x)\n",
        "        return v,c\n",
        "        "
      ]
    },
    {
      "cell_type": "code",
      "execution_count": null,
      "metadata": {
        "id": "c2_QEfFlUQhj",
        "colab": {
          "base_uri": "https://localhost:8080/",
          "height": 1000,
          "referenced_widgets": [
            "3c9b83bc596d41e7a6442c7d3f0e8e1a",
            "92bf868654704f96be0b3e36fb287aea",
            "5b85c693df4f48e8a720bb26b0877ff8",
            "4c21fc62f6af488cb6154ef4092dceb5",
            "a50c84862ca54bb8baac532af119b148",
            "131a9787b96c4012bb0e88df04298986",
            "dc6db52f3a7f4a1cba1e664ece77fce9",
            "8fdb94466bb14f07bbd7fea2eef50986",
            "a922eb67545c4441b31d41a59d889cd0",
            "20fc68c53623437898163dcfbcd19462",
            "ddd043f9ea4f4003a9121bfca3256420"
          ]
        },
        "outputId": "81d150fe-405f-4e15-e528-f8b63e75431f"
      },
      "outputs": [
        {
          "output_type": "stream",
          "name": "stderr",
          "text": [
            "/usr/local/lib/python3.7/dist-packages/torchvision/models/_utils.py:209: UserWarning: The parameter 'pretrained' is deprecated since 0.13 and will be removed in 0.15, please use 'weights' instead.\n",
            "  f\"The parameter '{pretrained_param}' is deprecated since 0.13 and will be removed in 0.15, \"\n",
            "/usr/local/lib/python3.7/dist-packages/torchvision/models/_utils.py:223: UserWarning: Arguments other than a weight enum or `None` for 'weights' are deprecated since 0.13 and will be removed in 0.15. The current behavior is equivalent to passing `weights=VGG16_BN_Weights.IMAGENET1K_V1`. You can also use `weights=VGG16_BN_Weights.DEFAULT` to get the most up-to-date weights.\n",
            "  warnings.warn(msg)\n",
            "Downloading: \"https://download.pytorch.org/models/vgg16_bn-6c64b313.pth\" to /root/.cache/torch/hub/checkpoints/vgg16_bn-6c64b313.pth\n"
          ]
        },
        {
          "output_type": "display_data",
          "data": {
            "text/plain": [
              "  0%|          | 0.00/528M [00:00<?, ?B/s]"
            ],
            "application/vnd.jupyter.widget-view+json": {
              "version_major": 2,
              "version_minor": 0,
              "model_id": "3c9b83bc596d41e7a6442c7d3f0e8e1a"
            }
          },
          "metadata": {}
        },
        {
          "output_type": "stream",
          "name": "stdout",
          "text": [
            "VC_vgg16(\n",
            "  (model_vgg16): VGG(\n",
            "    (features): Sequential(\n",
            "      (0): Conv2d(3, 64, kernel_size=(3, 3), stride=(1, 1), padding=(1, 1))\n",
            "      (1): BatchNorm2d(64, eps=1e-05, momentum=0.1, affine=True, track_running_stats=True)\n",
            "      (2): ReLU(inplace=True)\n",
            "      (3): Conv2d(64, 64, kernel_size=(3, 3), stride=(1, 1), padding=(1, 1))\n",
            "      (4): BatchNorm2d(64, eps=1e-05, momentum=0.1, affine=True, track_running_stats=True)\n",
            "      (5): ReLU(inplace=True)\n",
            "      (6): MaxPool2d(kernel_size=2, stride=2, padding=0, dilation=1, ceil_mode=False)\n",
            "      (7): Conv2d(64, 128, kernel_size=(3, 3), stride=(1, 1), padding=(1, 1))\n",
            "      (8): BatchNorm2d(128, eps=1e-05, momentum=0.1, affine=True, track_running_stats=True)\n",
            "      (9): ReLU(inplace=True)\n",
            "      (10): Conv2d(128, 128, kernel_size=(3, 3), stride=(1, 1), padding=(1, 1))\n",
            "      (11): BatchNorm2d(128, eps=1e-05, momentum=0.1, affine=True, track_running_stats=True)\n",
            "      (12): ReLU(inplace=True)\n",
            "      (13): MaxPool2d(kernel_size=2, stride=2, padding=0, dilation=1, ceil_mode=False)\n",
            "      (14): Conv2d(128, 256, kernel_size=(3, 3), stride=(1, 1), padding=(1, 1))\n",
            "      (15): BatchNorm2d(256, eps=1e-05, momentum=0.1, affine=True, track_running_stats=True)\n",
            "      (16): ReLU(inplace=True)\n",
            "      (17): Conv2d(256, 256, kernel_size=(3, 3), stride=(1, 1), padding=(1, 1))\n",
            "      (18): BatchNorm2d(256, eps=1e-05, momentum=0.1, affine=True, track_running_stats=True)\n",
            "      (19): ReLU(inplace=True)\n",
            "      (20): Conv2d(256, 256, kernel_size=(3, 3), stride=(1, 1), padding=(1, 1))\n",
            "      (21): BatchNorm2d(256, eps=1e-05, momentum=0.1, affine=True, track_running_stats=True)\n",
            "      (22): ReLU(inplace=True)\n",
            "      (23): MaxPool2d(kernel_size=2, stride=2, padding=0, dilation=1, ceil_mode=False)\n",
            "      (24): Conv2d(256, 512, kernel_size=(3, 3), stride=(1, 1), padding=(1, 1))\n",
            "      (25): BatchNorm2d(512, eps=1e-05, momentum=0.1, affine=True, track_running_stats=True)\n",
            "      (26): ReLU(inplace=True)\n",
            "      (27): Conv2d(512, 512, kernel_size=(3, 3), stride=(1, 1), padding=(1, 1))\n",
            "      (28): BatchNorm2d(512, eps=1e-05, momentum=0.1, affine=True, track_running_stats=True)\n",
            "      (29): ReLU(inplace=True)\n",
            "      (30): Conv2d(512, 512, kernel_size=(3, 3), stride=(1, 1), padding=(1, 1))\n",
            "      (31): BatchNorm2d(512, eps=1e-05, momentum=0.1, affine=True, track_running_stats=True)\n",
            "      (32): ReLU(inplace=True)\n",
            "      (33): MaxPool2d(kernel_size=2, stride=2, padding=0, dilation=1, ceil_mode=False)\n",
            "      (34): Conv2d(512, 512, kernel_size=(3, 3), stride=(1, 1), padding=(1, 1))\n",
            "      (35): BatchNorm2d(512, eps=1e-05, momentum=0.1, affine=True, track_running_stats=True)\n",
            "      (36): ReLU(inplace=True)\n",
            "      (37): Conv2d(512, 512, kernel_size=(3, 3), stride=(1, 1), padding=(1, 1))\n",
            "      (38): BatchNorm2d(512, eps=1e-05, momentum=0.1, affine=True, track_running_stats=True)\n",
            "      (39): ReLU(inplace=True)\n",
            "      (40): Conv2d(512, 512, kernel_size=(3, 3), stride=(1, 1), padding=(1, 1))\n",
            "      (41): BatchNorm2d(512, eps=1e-05, momentum=0.1, affine=True, track_running_stats=True)\n",
            "      (42): ReLU(inplace=True)\n",
            "      (43): MaxPool2d(kernel_size=2, stride=2, padding=0, dilation=1, ceil_mode=False)\n",
            "    )\n",
            "    (avgpool): AdaptiveAvgPool2d(output_size=(7, 7))\n",
            "    (classifier): Sequential(\n",
            "      (0): Linear(in_features=25088, out_features=4096, bias=True)\n",
            "      (1): ReLU(inplace=True)\n",
            "      (2): Dropout(p=0.5, inplace=False)\n",
            "      (3): Linear(in_features=4096, out_features=4096, bias=True)\n",
            "    )\n",
            "  )\n",
            "  (v_model): Sequential(\n",
            "    (0): Linear(in_features=4096, out_features=2048, bias=True)\n",
            "    (1): ReLU()\n",
            "    (2): Linear(in_features=2048, out_features=512, bias=True)\n",
            "    (3): ReLU()\n",
            "    (4): Linear(in_features=512, out_features=128, bias=True)\n",
            "    (5): ReLU()\n",
            "    (6): Linear(in_features=128, out_features=10, bias=True)\n",
            "  )\n",
            "  (c_model): Sequential(\n",
            "    (0): Linear(in_features=4096, out_features=2048, bias=True)\n",
            "    (1): ReLU()\n",
            "    (2): Linear(in_features=2048, out_features=512, bias=True)\n",
            "    (3): ReLU()\n",
            "    (4): Linear(in_features=512, out_features=128, bias=True)\n",
            "    (5): ReLU()\n",
            "    (6): Linear(in_features=128, out_features=10, bias=True)\n",
            "  )\n",
            ")\n"
          ]
        }
      ],
      "source": [
        "print(VC_vgg16())"
      ]
    },
    {
      "cell_type": "code",
      "execution_count": null,
      "metadata": {
        "id": "i_fmbjQjTsCl"
      },
      "outputs": [],
      "source": [
        "#Instantiating network"
      ]
    },
    {
      "cell_type": "code",
      "execution_count": null,
      "metadata": {
        "colab": {
          "base_uri": "https://localhost:8080/"
        },
        "id": "oBiRfHYEpx0c",
        "outputId": "02395cfb-d660-44a6-bef1-d3a566dcac5e"
      },
      "outputs": [
        {
          "output_type": "stream",
          "name": "stdout",
          "text": [
            "cuda:0\n"
          ]
        }
      ],
      "source": [
        "device=torch.device(\"cuda:0\" if torch.cuda.is_available() else \"cpu\")\n",
        "print(device)"
      ]
    },
    {
      "cell_type": "code",
      "execution_count": null,
      "metadata": {
        "id": "cGP5JctiTM_d"
      },
      "outputs": [],
      "source": [
        "import torch.optim as optim\n",
        "\n",
        "net=VC_vgg16().to(device)\n",
        "loss_fn = nn.CrossEntropyLoss()\n",
        "opt = optim.Adam(net.parameters(), lr = 0.005)"
      ]
    },
    {
      "cell_type": "code",
      "execution_count": null,
      "metadata": {
        "id": "mwUAyhQdwI37",
        "colab": {
          "base_uri": "https://localhost:8080/"
        },
        "outputId": "14e566b7-faac-407a-a171-858b2e94ef61"
      },
      "outputs": [
        {
          "output_type": "stream",
          "name": "stdout",
          "text": [
            "VC_vgg16(\n",
            "  (model_vgg16): VGG(\n",
            "    (features): Sequential(\n",
            "      (0): Conv2d(3, 64, kernel_size=(3, 3), stride=(1, 1), padding=(1, 1))\n",
            "      (1): BatchNorm2d(64, eps=1e-05, momentum=0.1, affine=True, track_running_stats=True)\n",
            "      (2): ReLU(inplace=True)\n",
            "      (3): Conv2d(64, 64, kernel_size=(3, 3), stride=(1, 1), padding=(1, 1))\n",
            "      (4): BatchNorm2d(64, eps=1e-05, momentum=0.1, affine=True, track_running_stats=True)\n",
            "      (5): ReLU(inplace=True)\n",
            "      (6): MaxPool2d(kernel_size=2, stride=2, padding=0, dilation=1, ceil_mode=False)\n",
            "      (7): Conv2d(64, 128, kernel_size=(3, 3), stride=(1, 1), padding=(1, 1))\n",
            "      (8): BatchNorm2d(128, eps=1e-05, momentum=0.1, affine=True, track_running_stats=True)\n",
            "      (9): ReLU(inplace=True)\n",
            "      (10): Conv2d(128, 128, kernel_size=(3, 3), stride=(1, 1), padding=(1, 1))\n",
            "      (11): BatchNorm2d(128, eps=1e-05, momentum=0.1, affine=True, track_running_stats=True)\n",
            "      (12): ReLU(inplace=True)\n",
            "      (13): MaxPool2d(kernel_size=2, stride=2, padding=0, dilation=1, ceil_mode=False)\n",
            "      (14): Conv2d(128, 256, kernel_size=(3, 3), stride=(1, 1), padding=(1, 1))\n",
            "      (15): BatchNorm2d(256, eps=1e-05, momentum=0.1, affine=True, track_running_stats=True)\n",
            "      (16): ReLU(inplace=True)\n",
            "      (17): Conv2d(256, 256, kernel_size=(3, 3), stride=(1, 1), padding=(1, 1))\n",
            "      (18): BatchNorm2d(256, eps=1e-05, momentum=0.1, affine=True, track_running_stats=True)\n",
            "      (19): ReLU(inplace=True)\n",
            "      (20): Conv2d(256, 256, kernel_size=(3, 3), stride=(1, 1), padding=(1, 1))\n",
            "      (21): BatchNorm2d(256, eps=1e-05, momentum=0.1, affine=True, track_running_stats=True)\n",
            "      (22): ReLU(inplace=True)\n",
            "      (23): MaxPool2d(kernel_size=2, stride=2, padding=0, dilation=1, ceil_mode=False)\n",
            "      (24): Conv2d(256, 512, kernel_size=(3, 3), stride=(1, 1), padding=(1, 1))\n",
            "      (25): BatchNorm2d(512, eps=1e-05, momentum=0.1, affine=True, track_running_stats=True)\n",
            "      (26): ReLU(inplace=True)\n",
            "      (27): Conv2d(512, 512, kernel_size=(3, 3), stride=(1, 1), padding=(1, 1))\n",
            "      (28): BatchNorm2d(512, eps=1e-05, momentum=0.1, affine=True, track_running_stats=True)\n",
            "      (29): ReLU(inplace=True)\n",
            "      (30): Conv2d(512, 512, kernel_size=(3, 3), stride=(1, 1), padding=(1, 1))\n",
            "      (31): BatchNorm2d(512, eps=1e-05, momentum=0.1, affine=True, track_running_stats=True)\n",
            "      (32): ReLU(inplace=True)\n",
            "      (33): MaxPool2d(kernel_size=2, stride=2, padding=0, dilation=1, ceil_mode=False)\n",
            "      (34): Conv2d(512, 512, kernel_size=(3, 3), stride=(1, 1), padding=(1, 1))\n",
            "      (35): BatchNorm2d(512, eps=1e-05, momentum=0.1, affine=True, track_running_stats=True)\n",
            "      (36): ReLU(inplace=True)\n",
            "      (37): Conv2d(512, 512, kernel_size=(3, 3), stride=(1, 1), padding=(1, 1))\n",
            "      (38): BatchNorm2d(512, eps=1e-05, momentum=0.1, affine=True, track_running_stats=True)\n",
            "      (39): ReLU(inplace=True)\n",
            "      (40): Conv2d(512, 512, kernel_size=(3, 3), stride=(1, 1), padding=(1, 1))\n",
            "      (41): BatchNorm2d(512, eps=1e-05, momentum=0.1, affine=True, track_running_stats=True)\n",
            "      (42): ReLU(inplace=True)\n",
            "      (43): MaxPool2d(kernel_size=2, stride=2, padding=0, dilation=1, ceil_mode=False)\n",
            "    )\n",
            "    (avgpool): AdaptiveAvgPool2d(output_size=(7, 7))\n",
            "    (classifier): Sequential(\n",
            "      (0): Linear(in_features=25088, out_features=4096, bias=True)\n",
            "      (1): ReLU(inplace=True)\n",
            "      (2): Dropout(p=0.5, inplace=False)\n",
            "      (3): Linear(in_features=4096, out_features=4096, bias=True)\n",
            "    )\n",
            "  )\n",
            "  (v_model): Sequential(\n",
            "    (0): Linear(in_features=4096, out_features=2048, bias=True)\n",
            "    (1): ReLU()\n",
            "    (2): Linear(in_features=2048, out_features=512, bias=True)\n",
            "    (3): ReLU()\n",
            "    (4): Linear(in_features=512, out_features=128, bias=True)\n",
            "    (5): ReLU()\n",
            "    (6): Linear(in_features=128, out_features=10, bias=True)\n",
            "  )\n",
            "  (c_model): Sequential(\n",
            "    (0): Linear(in_features=4096, out_features=2048, bias=True)\n",
            "    (1): ReLU()\n",
            "    (2): Linear(in_features=2048, out_features=512, bias=True)\n",
            "    (3): ReLU()\n",
            "    (4): Linear(in_features=512, out_features=128, bias=True)\n",
            "    (5): ReLU()\n",
            "    (6): Linear(in_features=128, out_features=10, bias=True)\n",
            "  )\n",
            ")\n"
          ]
        }
      ],
      "source": [
        "print(net)"
      ]
    },
    {
      "cell_type": "code",
      "execution_count": null,
      "metadata": {
        "id": "T9gwTVYleDoU"
      },
      "outputs": [],
      "source": [
        "#parameters"
      ]
    },
    {
      "cell_type": "code",
      "execution_count": null,
      "metadata": {
        "id": "4B0XjFaxufqT"
      },
      "outputs": [],
      "source": [
        "torch.Size([1024, 4096]),torch.Size([1024]),torch.Size([10])\n"
      ]
    },
    {
      "cell_type": "code",
      "source": [
        "#making exisiting part of VGG16 to not be trained once again as it is already pre-trained"
      ],
      "metadata": {
        "id": "-oOXe9rXTkOD"
      },
      "execution_count": null,
      "outputs": []
    },
    {
      "cell_type": "code",
      "execution_count": null,
      "metadata": {
        "id": "qbz_wcTIn_Me"
      },
      "outputs": [],
      "source": [
        "for p in net.parameters():\n",
        "    if p.shape not in (torch.Size([1024, 4096]),torch.Size([1024]),torch.Size([10]),torch.Size([10, 1024])):\n",
        "        p.requires_grad=False\n",
        "        "
      ]
    },
    {
      "cell_type": "code",
      "execution_count": null,
      "metadata": {
        "colab": {
          "base_uri": "https://localhost:8080/"
        },
        "id": "g6aigITFPk9w",
        "outputId": "3c324c90-1734-4594-e61a-c3d17f3baedc"
      },
      "outputs": [
        {
          "output_type": "stream",
          "name": "stdout",
          "text": [
            "torch.Size([64, 3, 3, 3])\n",
            "torch.Size([64])\n",
            "torch.Size([64])\n",
            "torch.Size([64])\n",
            "torch.Size([64, 64, 3, 3])\n",
            "torch.Size([64])\n",
            "torch.Size([64])\n",
            "torch.Size([64])\n",
            "torch.Size([128, 64, 3, 3])\n",
            "torch.Size([128])\n",
            "torch.Size([128])\n",
            "torch.Size([128])\n",
            "torch.Size([128, 128, 3, 3])\n",
            "torch.Size([128])\n",
            "torch.Size([128])\n",
            "torch.Size([128])\n",
            "torch.Size([256, 128, 3, 3])\n",
            "torch.Size([256])\n",
            "torch.Size([256])\n",
            "torch.Size([256])\n",
            "torch.Size([256, 256, 3, 3])\n",
            "torch.Size([256])\n",
            "torch.Size([256])\n",
            "torch.Size([256])\n",
            "torch.Size([256, 256, 3, 3])\n",
            "torch.Size([256])\n",
            "torch.Size([256])\n",
            "torch.Size([256])\n",
            "torch.Size([512, 256, 3, 3])\n",
            "torch.Size([512])\n",
            "torch.Size([512])\n",
            "torch.Size([512])\n",
            "torch.Size([512, 512, 3, 3])\n",
            "torch.Size([512])\n",
            "torch.Size([512])\n",
            "torch.Size([512])\n",
            "torch.Size([512, 512, 3, 3])\n",
            "torch.Size([512])\n",
            "torch.Size([512])\n",
            "torch.Size([512])\n",
            "torch.Size([512, 512, 3, 3])\n",
            "torch.Size([512])\n",
            "torch.Size([512])\n",
            "torch.Size([512])\n",
            "torch.Size([512, 512, 3, 3])\n",
            "torch.Size([512])\n",
            "torch.Size([512])\n",
            "torch.Size([512])\n",
            "torch.Size([512, 512, 3, 3])\n",
            "torch.Size([512])\n",
            "torch.Size([512])\n",
            "torch.Size([512])\n",
            "torch.Size([4096, 25088])\n",
            "torch.Size([4096])\n",
            "torch.Size([4096, 4096])\n",
            "torch.Size([4096])\n",
            "torch.Size([2048, 4096])\n",
            "torch.Size([2048])\n",
            "torch.Size([512, 2048])\n",
            "torch.Size([512])\n",
            "torch.Size([128, 512])\n",
            "torch.Size([128])\n",
            "torch.Size([10, 128])\n",
            "torch.Size([10])\n",
            "torch.Size([2048, 4096])\n",
            "torch.Size([2048])\n",
            "torch.Size([512, 2048])\n",
            "torch.Size([512])\n",
            "torch.Size([128, 512])\n",
            "torch.Size([128])\n",
            "torch.Size([10, 128])\n",
            "torch.Size([10])\n"
          ]
        }
      ],
      "source": [
        "for p in net.parameters():\n",
        "    if p.requires_grad:\n",
        "        print(p.shape)"
      ]
    },
    {
      "cell_type": "code",
      "source": [
        "for i,p in enumerate(net.parameters()):\n",
        "    if p.requires_grad:\n",
        "        print(i,p.shape)"
      ],
      "metadata": {
        "colab": {
          "base_uri": "https://localhost:8080/"
        },
        "id": "yEVlHl66IS2m",
        "outputId": "bbf35b57-f3f7-435c-dedd-4fd3a085488c"
      },
      "execution_count": null,
      "outputs": [
        {
          "output_type": "stream",
          "name": "stdout",
          "text": [
            "0 torch.Size([64, 3, 3, 3])\n",
            "1 torch.Size([64])\n",
            "2 torch.Size([64])\n",
            "3 torch.Size([64])\n",
            "4 torch.Size([64, 64, 3, 3])\n",
            "5 torch.Size([64])\n",
            "6 torch.Size([64])\n",
            "7 torch.Size([64])\n",
            "8 torch.Size([128, 64, 3, 3])\n",
            "9 torch.Size([128])\n",
            "10 torch.Size([128])\n",
            "11 torch.Size([128])\n",
            "12 torch.Size([128, 128, 3, 3])\n",
            "13 torch.Size([128])\n",
            "14 torch.Size([128])\n",
            "15 torch.Size([128])\n",
            "16 torch.Size([256, 128, 3, 3])\n",
            "17 torch.Size([256])\n",
            "18 torch.Size([256])\n",
            "19 torch.Size([256])\n",
            "20 torch.Size([256, 256, 3, 3])\n",
            "21 torch.Size([256])\n",
            "22 torch.Size([256])\n",
            "23 torch.Size([256])\n",
            "24 torch.Size([256, 256, 3, 3])\n",
            "25 torch.Size([256])\n",
            "26 torch.Size([256])\n",
            "27 torch.Size([256])\n",
            "28 torch.Size([512, 256, 3, 3])\n",
            "29 torch.Size([512])\n",
            "30 torch.Size([512])\n",
            "31 torch.Size([512])\n",
            "32 torch.Size([512, 512, 3, 3])\n",
            "33 torch.Size([512])\n",
            "34 torch.Size([512])\n",
            "35 torch.Size([512])\n",
            "36 torch.Size([512, 512, 3, 3])\n",
            "37 torch.Size([512])\n",
            "38 torch.Size([512])\n",
            "39 torch.Size([512])\n",
            "40 torch.Size([512, 512, 3, 3])\n",
            "41 torch.Size([512])\n",
            "42 torch.Size([512])\n",
            "43 torch.Size([512])\n",
            "44 torch.Size([512, 512, 3, 3])\n",
            "45 torch.Size([512])\n",
            "46 torch.Size([512])\n",
            "47 torch.Size([512])\n",
            "48 torch.Size([512, 512, 3, 3])\n",
            "49 torch.Size([512])\n",
            "50 torch.Size([512])\n",
            "51 torch.Size([512])\n",
            "52 torch.Size([4096, 25088])\n",
            "53 torch.Size([4096])\n",
            "54 torch.Size([4096, 4096])\n",
            "55 torch.Size([4096])\n",
            "56 torch.Size([2048, 4096])\n",
            "57 torch.Size([2048])\n",
            "58 torch.Size([512, 2048])\n",
            "59 torch.Size([512])\n",
            "60 torch.Size([128, 512])\n",
            "61 torch.Size([128])\n",
            "62 torch.Size([10, 128])\n",
            "63 torch.Size([10])\n",
            "64 torch.Size([2048, 4096])\n",
            "65 torch.Size([2048])\n",
            "66 torch.Size([512, 2048])\n",
            "67 torch.Size([512])\n",
            "68 torch.Size([128, 512])\n",
            "69 torch.Size([128])\n",
            "70 torch.Size([10, 128])\n",
            "71 torch.Size([10])\n"
          ]
        }
      ]
    },
    {
      "cell_type": "code",
      "source": [
        "for i,p in enumerate(net.parameters()):\n",
        "    if i<56:\n",
        "        p.requires_grad=False"
      ],
      "metadata": {
        "id": "_yuWL6BWJ7N9"
      },
      "execution_count": null,
      "outputs": []
    },
    {
      "cell_type": "code",
      "source": [
        "for i,p in enumerate(net.parameters()):\n",
        "    if p.requires_grad:\n",
        "        print(i,p.shape)"
      ],
      "metadata": {
        "colab": {
          "base_uri": "https://localhost:8080/"
        },
        "id": "8NvMBB_6KLP-",
        "outputId": "5296b95b-268e-46d6-a6a5-3db5cd1fca32"
      },
      "execution_count": null,
      "outputs": [
        {
          "output_type": "stream",
          "name": "stdout",
          "text": [
            "56 torch.Size([2048, 4096])\n",
            "57 torch.Size([2048])\n",
            "58 torch.Size([512, 2048])\n",
            "59 torch.Size([512])\n",
            "60 torch.Size([128, 512])\n",
            "61 torch.Size([128])\n",
            "62 torch.Size([10, 128])\n",
            "63 torch.Size([10])\n",
            "64 torch.Size([2048, 4096])\n",
            "65 torch.Size([2048])\n",
            "66 torch.Size([512, 2048])\n",
            "67 torch.Size([512])\n",
            "68 torch.Size([128, 512])\n",
            "69 torch.Size([128])\n",
            "70 torch.Size([10, 128])\n",
            "71 torch.Size([10])\n"
          ]
        }
      ]
    },
    {
      "cell_type": "code",
      "execution_count": null,
      "metadata": {
        "id": "Zby76eHKeJA4"
      },
      "outputs": [],
      "source": [
        "def evaluation(dataloader):\n",
        "    total=0\n",
        "    correct=0\n",
        "    for i in dataloader:\n",
        "        images,labels=i\n",
        "        #print(\"images shape:\",images.shape)\n",
        "        #print(\"labels shape\",labels.shape)\n",
        "        images,labels=images.to(device),labels.to(device)\n",
        "        \n",
        "\n",
        "        vowel_label,consonant_label=labels[:,0,:],labels[:,1,:]\n",
        "        _,vowel_label=torch.max(vowel_label,1)\n",
        "        _,consonant_label=torch.max(consonant_label,1)\n",
        "        #print(\"vowel_label shape\",vowel_label.shape)\n",
        "        #print(\"consonant_label shape\",consonant_label.shape)    \n",
        "        vowel,consonant=net(images)\n",
        "        #print(\"vowel shape\",vowel.shape)\n",
        "        #print(\"consonant shape\",consonant.shape) \n",
        "        _,vowel_pred=torch.max(vowel,1)\n",
        "        _,consonant_pred=torch.max(consonant,1)\n",
        "        #print(\"vowel_pred shape\",vowel_pred.shape)\n",
        "        #print(\"consonant_pred shape\",consonant_pred.shape) \n",
        "        total+=labels.size(0)\n",
        "        correct_v=(vowel_pred==vowel_label)\n",
        "        correct_c=(consonant_pred==consonant_label)\n",
        "        correct+=(correct_v+correct_c).sum().item()\n",
        "    return (correct/total)*100"
      ]
    },
    {
      "cell_type": "code",
      "execution_count": null,
      "metadata": {
        "id": "KidbKUdCsbCq"
      },
      "outputs": [],
      "source": [
        "torch.cuda.empty_cache()"
      ]
    },
    {
      "cell_type": "code",
      "execution_count": null,
      "metadata": {
        "id": "QXh52STgnZEa"
      },
      "outputs": [],
      "source": [
        "evaluation(train_loader)"
      ]
    },
    {
      "cell_type": "code",
      "source": [
        "import copy"
      ],
      "metadata": {
        "id": "0bLpQyr_zraL"
      },
      "execution_count": null,
      "outputs": []
    },
    {
      "cell_type": "code",
      "execution_count": null,
      "metadata": {
        "colab": {
          "base_uri": "https://localhost:8080/",
          "height": 1000
        },
        "id": "r7BGN0wUeNNU",
        "outputId": "5fafa107-2f25-4d3b-8b32-05e09745dfe3"
      },
      "outputs": [
        {
          "output_type": "stream",
          "name": "stdout",
          "text": [
            "Loss 4.62\n",
            "Loss 4.44\n",
            "Loss 4.20\n",
            "Epoch 0/16, Training Accuaracy 31.51, Test Accuracy 31.50\n",
            "Loss 4.15\n",
            "Loss 4.35\n",
            "Loss 4.37\n",
            "Epoch 1/16, Training Accuaracy 35.60, Test Accuracy 35.60\n",
            "Loss 4.03\n",
            "Loss 4.11\n",
            "Loss 4.53\n",
            "Epoch 2/16, Training Accuaracy 37.01, Test Accuracy 36.50\n",
            "Loss 4.34\n",
            "Loss 4.16\n",
            "Loss 4.04\n",
            "Epoch 3/16, Training Accuaracy 37.89, Test Accuracy 38.00\n",
            "Loss 4.16\n",
            "Loss 4.08\n",
            "Loss 4.02\n",
            "Epoch 4/16, Training Accuaracy 36.62, Test Accuracy 33.30\n",
            "Loss 3.97\n",
            "Loss 3.92\n",
            "Loss 4.15\n",
            "Epoch 5/16, Training Accuaracy 37.78, Test Accuracy 34.20\n",
            "Loss 4.11\n",
            "Loss 3.89\n",
            "Loss 3.84\n",
            "Epoch 6/16, Training Accuaracy 38.16, Test Accuracy 35.90\n",
            "Loss 3.93\n",
            "Loss 3.90\n",
            "Loss 4.05\n",
            "Epoch 7/16, Training Accuaracy 37.41, Test Accuracy 35.50\n",
            "Loss 4.33\n",
            "Loss 3.93\n",
            "Loss 4.05\n",
            "Epoch 8/16, Training Accuaracy 39.39, Test Accuracy 35.30\n",
            "Loss 4.23\n",
            "Loss 3.84\n",
            "Loss 4.17\n",
            "Epoch 9/16, Training Accuaracy 38.63, Test Accuracy 35.60\n",
            "Loss 3.95\n",
            "Loss 4.09\n",
            "Loss 4.07\n",
            "Epoch 10/16, Training Accuaracy 39.98, Test Accuracy 37.40\n",
            "Loss 3.82\n",
            "Loss 3.83\n",
            "Loss 4.11\n",
            "Epoch 11/16, Training Accuaracy 36.56, Test Accuracy 33.60\n",
            "Loss 4.30\n",
            "Loss 4.31\n",
            "Loss 3.92\n",
            "Epoch 12/16, Training Accuaracy 40.53, Test Accuracy 37.70\n",
            "Loss 4.17\n",
            "Loss 4.09\n",
            "Loss 4.08\n",
            "Epoch 13/16, Training Accuaracy 39.69, Test Accuracy 34.30\n",
            "Loss 4.12\n",
            "Loss 3.98\n",
            "Loss 3.86\n",
            "Epoch 14/16, Training Accuaracy 39.31, Test Accuracy 37.40\n",
            "Loss 3.69\n",
            "Loss 4.32\n",
            "Loss 4.13\n",
            "Epoch 15/16, Training Accuaracy 38.23, Test Accuracy 35.80\n"
          ]
        },
        {
          "output_type": "display_data",
          "data": {
            "text/plain": [
              "<Figure size 432x288 with 1 Axes>"
            ],
            "image/png": "[encoded data removed]"
          },
          "metadata": {
            "needs_background": "light"
          }
        },
        {
          "output_type": "stream",
          "name": "stdout",
          "text": [
            "CPU times: user 38min 25s, sys: 1min 20s, total: 39min 45s\n",
            "Wall time: 1h 28min 37s\n"
          ]
        }
      ],
      "source": [
        "%%time\n",
        "loss_epoch=[]\n",
        "epochs=16\n",
        "min_loss=1000\n",
        "\n",
        "for i in range(epochs):\n",
        "    for j,data in enumerate(train_loader,0):\n",
        "        input,labels=data\n",
        "        input,labels=input.to(device),labels.to(device)\n",
        "        #print(input.shape)            #(32,3,224,224)\n",
        "        #print(labels.shape)           #(32,2,10)\n",
        "        \n",
        "        \n",
        "        vowel_label,consonant_label=labels[:,0,:],labels[:,1,:]\n",
        "        \n",
        "        vowel,consonant=net.forward(input)\n",
        "        #print(vowel_label.shape)      #(32,10)\n",
        "        #print(consonant_label.shape)  #(32,10)\n",
        "        #print(vowel.shape)            #(32,10)\n",
        "        #print(consonant.shape)        #(32,10)\n",
        "        lossV=loss_fn(vowel,vowel_label)\n",
        "        lossC=loss_fn(consonant,consonant_label)\n",
        "        loss=lossV+lossC\n",
        "        loss.backward()\n",
        "\n",
        "        opt.step()\n",
        "        opt.zero_grad()\n",
        "\n",
        "        if min_loss> loss :\n",
        "            min_loss=loss\n",
        "            best_model = copy.deepcopy(net.state_dict())\n",
        "\n",
        "        if(j%100==0):\n",
        "            print('Loss %0.2f'%loss.item())\n",
        "        del vowel,consonant,labels,input\n",
        "        torch.cuda.empty_cache()\n",
        "        \n",
        "    loss_epoch.append(loss.item())\n",
        "    print('Epoch %d/%d, Training Accuaracy %0.2f, Test Accuracy %0.2f' % (i,epochs,evaluation(train_loader),evaluation(validation_loader))) \n",
        "\n",
        "net.load_state_dict(best_model)\n",
        "plt.plot(loss_epoch)\n",
        "plt.xlabel('epoch')\n",
        "plt.ylabel('loss')\n",
        "plt.show()"
      ]
    }
  ],
  "metadata": {
    "accelerator": "GPU",
    "colab": {
      "provenance": [],
      "authorship_tag": "ABX9TyPY6r23KRtAaUZu/lvWyxXU",
      "include_colab_link": true
    },
    "kernelspec": {
      "display_name": "Python 3",
      "name": "python3"
    },
    "language_info": {
      "name": "python"
    },
    "widgets": {
      "application/vnd.jupyter.widget-state+json": {
        "3c9b83bc596d41e7a6442c7d3f0e8e1a": {
          "model_module": "@jupyter-widgets/controls",
          "model_name": "HBoxModel",
          "model_module_version": "1.5.0",
          "state": {
            "_dom_classes": [],
            "_model_module": "@jupyter-widgets/controls",
            "_model_module_version": "1.5.0",
            "_model_name": "HBoxModel",
            "_view_count": null,
            "_view_module": "@jupyter-widgets/controls",
            "_view_module_version": "1.5.0",
            "_view_name": "HBoxView",
            "box_style": "",
            "children": [
              "IPY_MODEL_92bf868654704f96be0b3e36fb287aea",
              "IPY_MODEL_5b85c693df4f48e8a720bb26b0877ff8",
              "IPY_MODEL_4c21fc62f6af488cb6154ef4092dceb5"
            ],
            "layout": "IPY_MODEL_a50c84862ca54bb8baac532af119b148"
          }
        },
        "92bf868654704f96be0b3e36fb287aea": {
          "model_module": "@jupyter-widgets/controls",
          "model_name": "HTMLModel",
          "model_module_version": "1.5.0",
          "state": {
            "_dom_classes": [],
            "_model_module": "@jupyter-widgets/controls",
            "_model_module_version": "1.5.0",
            "_model_name": "HTMLModel",
            "_view_count": null,
            "_view_module": "@jupyter-widgets/controls",
            "_view_module_version": "1.5.0",
            "_view_name": "HTMLView",
            "description": "",
            "description_tooltip": null,
            "layout": "IPY_MODEL_131a9787b96c4012bb0e88df04298986",
            "placeholder": "​",
            "style": "IPY_MODEL_dc6db52f3a7f4a1cba1e664ece77fce9",
            "value": "100%"
          }
        },
        "5b85c693df4f48e8a720bb26b0877ff8": {
          "model_module": "@jupyter-widgets/controls",
          "model_name": "FloatProgressModel",
          "model_module_version": "1.5.0",
          "state": {
            "_dom_classes": [],
            "_model_module": "@jupyter-widgets/controls",
            "_model_module_version": "1.5.0",
            "_model_name": "FloatProgressModel",
            "_view_count": null,
            "_view_module": "@jupyter-widgets/controls",
            "_view_module_version": "1.5.0",
            "_view_name": "ProgressView",
            "bar_style": "success",
            "description": "",
            "description_tooltip": null,
            "layout": "IPY_MODEL_8fdb94466bb14f07bbd7fea2eef50986",
            "max": 553507836,
            "min": 0,
            "orientation": "horizontal",
            "style": "IPY_MODEL_a922eb67545c4441b31d41a59d889cd0",
            "value": 553507836
          }
        },
        "4c21fc62f6af488cb6154ef4092dceb5": {
          "model_module": "@jupyter-widgets/controls",
          "model_name": "HTMLModel",
          "model_module_version": "1.5.0",
          "state": {
            "_dom_classes": [],
            "_model_module": "@jupyter-widgets/controls",
            "_model_module_version": "1.5.0",
            "_model_name": "HTMLModel",
            "_view_count": null,
            "_view_module": "@jupyter-widgets/controls",
            "_view_module_version": "1.5.0",
            "_view_name": "HTMLView",
            "description": "",
            "description_tooltip": null,
            "layout": "IPY_MODEL_20fc68c53623437898163dcfbcd19462",
            "placeholder": "​",
            "style": "IPY_MODEL_ddd043f9ea4f4003a9121bfca3256420",
            "value": " 528M/528M [00:04&lt;00:00, 143MB/s]"
          }
        },
        "a50c84862ca54bb8baac532af119b148": {
          "model_module": "@jupyter-widgets/base",
          "model_name": "LayoutModel",
          "model_module_version": "1.2.0",
          "state": {
            "_model_module": "@jupyter-widgets/base",
            "_model_module_version": "1.2.0",
            "_model_name": "LayoutModel",
            "_view_count": null,
            "_view_module": "@jupyter-widgets/base",
            "_view_module_version": "1.2.0",
            "_view_name": "LayoutView",
            "align_content": null,
            "align_items": null,
            "align_self": null,
            "border": null,
            "bottom": null,
            "display": null,
            "flex": null,
            "flex_flow": null,
            "grid_area": null,
            "grid_auto_columns": null,
            "grid_auto_flow": null,
            "grid_auto_rows": null,
            "grid_column": null,
            "grid_gap": null,
            "grid_row": null,
            "grid_template_areas": null,
            "grid_template_columns": null,
            "grid_template_rows": null,
            "height": null,
            "justify_content": null,
            "justify_items": null,
            "left": null,
            "margin": null,
            "max_height": null,
            "max_width": null,
            "min_height": null,
            "min_width": null,
            "object_fit": null,
            "object_position": null,
            "order": null,
            "overflow": null,
            "overflow_x": null,
            "overflow_y": null,
            "padding": null,
            "right": null,
            "top": null,
            "visibility": null,
            "width": null
          }
        },
        "131a9787b96c4012bb0e88df04298986": {
          "model_module": "@jupyter-widgets/base",
          "model_name": "LayoutModel",
          "model_module_version": "1.2.0",
          "state": {
            "_model_module": "@jupyter-widgets/base",
            "_model_module_version": "1.2.0",
            "_model_name": "LayoutModel",
            "_view_count": null,
            "_view_module": "@jupyter-widgets/base",
            "_view_module_version": "1.2.0",
            "_view_name": "LayoutView",
            "align_content": null,
            "align_items": null,
            "align_self": null,
            "border": null,
            "bottom": null,
            "display": null,
            "flex": null,
            "flex_flow": null,
            "grid_area": null,
            "grid_auto_columns": null,
            "grid_auto_flow": null,
            "grid_auto_rows": null,
            "grid_column": null,
            "grid_gap": null,
            "grid_row": null,
            "grid_template_areas": null,
            "grid_template_columns": null,
            "grid_template_rows": null,
            "height": null,
            "justify_content": null,
            "justify_items": null,
            "left": null,
            "margin": null,
            "max_height": null,
            "max_width": null,
            "min_height": null,
            "min_width": null,
            "object_fit": null,
            "object_position": null,
            "order": null,
            "overflow": null,
            "overflow_x": null,
            "overflow_y": null,
            "padding": null,
            "right": null,
            "top": null,
            "visibility": null,
            "width": null
          }
        },
        "dc6db52f3a7f4a1cba1e664ece77fce9": {
          "model_module": "@jupyter-widgets/controls",
          "model_name": "DescriptionStyleModel",
          "model_module_version": "1.5.0",
          "state": {
            "_model_module": "@jupyter-widgets/controls",
            "_model_module_version": "1.5.0",
            "_model_name": "DescriptionStyleModel",
            "_view_count": null,
            "_view_module": "@jupyter-widgets/base",
            "_view_module_version": "1.2.0",
            "_view_name": "StyleView",
            "description_width": ""
          }
        },
        "8fdb94466bb14f07bbd7fea2eef50986": {
          "model_module": "@jupyter-widgets/base",
          "model_name": "LayoutModel",
          "model_module_version": "1.2.0",
          "state": {
            "_model_module": "@jupyter-widgets/base",
            "_model_module_version": "1.2.0",
            "_model_name": "LayoutModel",
            "_view_count": null,
            "_view_module": "@jupyter-widgets/base",
            "_view_module_version": "1.2.0",
            "_view_name": "LayoutView",
            "align_content": null,
            "align_items": null,
            "align_self": null,
            "border": null,
            "bottom": null,
            "display": null,
            "flex": null,
            "flex_flow": null,
            "grid_area": null,
            "grid_auto_columns": null,
            "grid_auto_flow": null,
            "grid_auto_rows": null,
            "grid_column": null,
            "grid_gap": null,
            "grid_row": null,
            "grid_template_areas": null,
            "grid_template_columns": null,
            "grid_template_rows": null,
            "height": null,
            "justify_content": null,
            "justify_items": null,
            "left": null,
            "margin": null,
            "max_height": null,
            "max_width": null,
            "min_height": null,
            "min_width": null,
            "object_fit": null,
            "object_position": null,
            "order": null,
            "overflow": null,
            "overflow_x": null,
            "overflow_y": null,
            "padding": null,
            "right": null,
            "top": null,
            "visibility": null,
            "width": null
          }
        },
        "a922eb67545c4441b31d41a59d889cd0": {
          "model_module": "@jupyter-widgets/controls",
          "model_name": "ProgressStyleModel",
          "model_module_version": "1.5.0",
          "state": {
            "_model_module": "@jupyter-widgets/controls",
            "_model_module_version": "1.5.0",
            "_model_name": "ProgressStyleModel",
            "_view_count": null,
            "_view_module": "@jupyter-widgets/base",
            "_view_module_version": "1.2.0",
            "_view_name": "StyleView",
            "bar_color": null,
            "description_width": ""
          }
        },
        "20fc68c53623437898163dcfbcd19462": {
          "model_module": "@jupyter-widgets/base",
          "model_name": "LayoutModel",
          "model_module_version": "1.2.0",
          "state": {
            "_model_module": "@jupyter-widgets/base",
            "_model_module_version": "1.2.0",
            "_model_name": "LayoutModel",
            "_view_count": null,
            "_view_module": "@jupyter-widgets/base",
            "_view_module_version": "1.2.0",
            "_view_name": "LayoutView",
            "align_content": null,
            "align_items": null,
            "align_self": null,
            "border": null,
            "bottom": null,
            "display": null,
            "flex": null,
            "flex_flow": null,
            "grid_area": null,
            "grid_auto_columns": null,
            "grid_auto_flow": null,
            "grid_auto_rows": null,
            "grid_column": null,
            "grid_gap": null,
            "grid_row": null,
            "grid_template_areas": null,
            "grid_template_columns": null,
            "grid_template_rows": null,
            "height": null,
            "justify_content": null,
            "justify_items": null,
            "left": null,
            "margin": null,
            "max_height": null,
            "max_width": null,
            "min_height": null,
            "min_width": null,
            "object_fit": null,
            "object_position": null,
            "order": null,
            "overflow": null,
            "overflow_x": null,
            "overflow_y": null,
            "padding": null,
            "right": null,
            "top": null,
            "visibility": null,
            "width": null
          }
        },
        "ddd043f9ea4f4003a9121bfca3256420": {
          "model_module": "@jupyter-widgets/controls",
          "model_name": "DescriptionStyleModel",
          "model_module_version": "1.5.0",
          "state": {
            "_model_module": "@jupyter-widgets/controls",
            "_model_module_version": "1.5.0",
            "_model_name": "DescriptionStyleModel",
            "_view_count": null,
            "_view_module": "@jupyter-widgets/base",
            "_view_module_version": "1.2.0",
            "_view_name": "StyleView",
            "description_width": ""
          }
        },
        "5cb261ecf6a84939bd03bc07684eedbd": {
          "model_module": "@jupyter-widgets/controls",
          "model_name": "HBoxModel",
          "model_module_version": "1.5.0",
          "state": {
            "_dom_classes": [],
            "_model_module": "@jupyter-widgets/controls",
            "_model_module_version": "1.5.0",
            "_model_name": "HBoxModel",
            "_view_count": null,
            "_view_module": "@jupyter-widgets/controls",
            "_view_module_version": "1.5.0",
            "_view_name": "HBoxView",
            "box_style": "",
            "children": [
              "IPY_MODEL_fdfb748051e84d86865d0b31e91d7977",
              "IPY_MODEL_6ec24f922260414ebae5dbf68e380e8b",
              "IPY_MODEL_d7e8ea66980d4e5cb496b3d83f9b37c1"
            ],
            "layout": "IPY_MODEL_3b05957d0e444997a231031ed54180b2"
          }
        },
        "fdfb748051e84d86865d0b31e91d7977": {
          "model_module": "@jupyter-widgets/controls",
          "model_name": "HTMLModel",
          "model_module_version": "1.5.0",
          "state": {
            "_dom_classes": [],
            "_model_module": "@jupyter-widgets/controls",
            "_model_module_version": "1.5.0",
            "_model_name": "HTMLModel",
            "_view_count": null,
            "_view_module": "@jupyter-widgets/controls",
            "_view_module_version": "1.5.0",
            "_view_name": "HTMLView",
            "description": "",
            "description_tooltip": null,
            "layout": "IPY_MODEL_39d4b4c41f974ec89c047b9a807b5ece",
            "placeholder": "​",
            "style": "IPY_MODEL_fa156dd6fe384cea8c8d765e7f867bd0",
            "value": "100%"
          }
        },
        "6ec24f922260414ebae5dbf68e380e8b": {
          "model_module": "@jupyter-widgets/controls",
          "model_name": "FloatProgressModel",
          "model_module_version": "1.5.0",
          "state": {
            "_dom_classes": [],
            "_model_module": "@jupyter-widgets/controls",
            "_model_module_version": "1.5.0",
            "_model_name": "FloatProgressModel",
            "_view_count": null,
            "_view_module": "@jupyter-widgets/controls",
            "_view_module_version": "1.5.0",
            "_view_name": "ProgressView",
            "bar_style": "success",
            "description": "",
            "description_tooltip": null,
            "layout": "IPY_MODEL_9d0e5db12720475ea1781391bdb5e459",
            "max": 102530333,
            "min": 0,
            "orientation": "horizontal",
            "style": "IPY_MODEL_5ad7a7edb0f4482fa4e6d08ecd2df365",
            "value": 102530333
          }
        },
        "d7e8ea66980d4e5cb496b3d83f9b37c1": {
          "model_module": "@jupyter-widgets/controls",
          "model_name": "HTMLModel",
          "model_module_version": "1.5.0",
          "state": {
            "_dom_classes": [],
            "_model_module": "@jupyter-widgets/controls",
            "_model_module_version": "1.5.0",
            "_model_name": "HTMLModel",
            "_view_count": null,
            "_view_module": "@jupyter-widgets/controls",
            "_view_module_version": "1.5.0",
            "_view_name": "HTMLView",
            "description": "",
            "description_tooltip": null,
            "layout": "IPY_MODEL_d3178beb5a114a65a401be4f4c29bc39",
            "placeholder": "​",
            "style": "IPY_MODEL_a58211129a9946a1b403e462a1f73e60",
            "value": " 97.8M/97.8M [00:00&lt;00:00, 254MB/s]"
          }
        },
        "3b05957d0e444997a231031ed54180b2": {
          "model_module": "@jupyter-widgets/base",
          "model_name": "LayoutModel",
          "model_module_version": "1.2.0",
          "state": {
            "_model_module": "@jupyter-widgets/base",
            "_model_module_version": "1.2.0",
            "_model_name": "LayoutModel",
            "_view_count": null,
            "_view_module": "@jupyter-widgets/base",
            "_view_module_version": "1.2.0",
            "_view_name": "LayoutView",
            "align_content": null,
            "align_items": null,
            "align_self": null,
            "border": null,
            "bottom": null,
            "display": null,
            "flex": null,
            "flex_flow": null,
            "grid_area": null,
            "grid_auto_columns": null,
            "grid_auto_flow": null,
            "grid_auto_rows": null,
            "grid_column": null,
            "grid_gap": null,
            "grid_row": null,
            "grid_template_areas": null,
            "grid_template_columns": null,
            "grid_template_rows": null,
            "height": null,
            "justify_content": null,
            "justify_items": null,
            "left": null,
            "margin": null,
            "max_height": null,
            "max_width": null,
            "min_height": null,
            "min_width": null,
            "object_fit": null,
            "object_position": null,
            "order": null,
            "overflow": null,
            "overflow_x": null,
            "overflow_y": null,
            "padding": null,
            "right": null,
            "top": null,
            "visibility": null,
            "width": null
          }
        },
        "39d4b4c41f974ec89c047b9a807b5ece": {
          "model_module": "@jupyter-widgets/base",
          "model_name": "LayoutModel",
          "model_module_version": "1.2.0",
          "state": {
            "_model_module": "@jupyter-widgets/base",
            "_model_module_version": "1.2.0",
            "_model_name": "LayoutModel",
            "_view_count": null,
            "_view_module": "@jupyter-widgets/base",
            "_view_module_version": "1.2.0",
            "_view_name": "LayoutView",
            "align_content": null,
            "align_items": null,
            "align_self": null,
            "border": null,
            "bottom": null,
            "display": null,
            "flex": null,
            "flex_flow": null,
            "grid_area": null,
            "grid_auto_columns": null,
            "grid_auto_flow": null,
            "grid_auto_rows": null,
            "grid_column": null,
            "grid_gap": null,
            "grid_row": null,
            "grid_template_areas": null,
            "grid_template_columns": null,
            "grid_template_rows": null,
            "height": null,
            "justify_content": null,
            "justify_items": null,
            "left": null,
            "margin": null,
            "max_height": null,
            "max_width": null,
            "min_height": null,
            "min_width": null,
            "object_fit": null,
            "object_position": null,
            "order": null,
            "overflow": null,
            "overflow_x": null,
            "overflow_y": null,
            "padding": null,
            "right": null,
            "top": null,
            "visibility": null,
            "width": null
          }
        },
        "fa156dd6fe384cea8c8d765e7f867bd0": {
          "model_module": "@jupyter-widgets/controls",
          "model_name": "DescriptionStyleModel",
          "model_module_version": "1.5.0",
          "state": {
            "_model_module": "@jupyter-widgets/controls",
            "_model_module_version": "1.5.0",
            "_model_name": "DescriptionStyleModel",
            "_view_count": null,
            "_view_module": "@jupyter-widgets/base",
            "_view_module_version": "1.2.0",
            "_view_name": "StyleView",
            "description_width": ""
          }
        },
        "9d0e5db12720475ea1781391bdb5e459": {
          "model_module": "@jupyter-widgets/base",
          "model_name": "LayoutModel",
          "model_module_version": "1.2.0",
          "state": {
            "_model_module": "@jupyter-widgets/base",
            "_model_module_version": "1.2.0",
            "_model_name": "LayoutModel",
            "_view_count": null,
            "_view_module": "@jupyter-widgets/base",
            "_view_module_version": "1.2.0",
            "_view_name": "LayoutView",
            "align_content": null,
            "align_items": null,
            "align_self": null,
            "border": null,
            "bottom": null,
            "display": null,
            "flex": null,
            "flex_flow": null,
            "grid_area": null,
            "grid_auto_columns": null,
            "grid_auto_flow": null,
            "grid_auto_rows": null,
            "grid_column": null,
            "grid_gap": null,
            "grid_row": null,
            "grid_template_areas": null,
            "grid_template_columns": null,
            "grid_template_rows": null,
            "height": null,
            "justify_content": null,
            "justify_items": null,
            "left": null,
            "margin": null,
            "max_height": null,
            "max_width": null,
            "min_height": null,
            "min_width": null,
            "object_fit": null,
            "object_position": null,
            "order": null,
            "overflow": null,
            "overflow_x": null,
            "overflow_y": null,
            "padding": null,
            "right": null,
            "top": null,
            "visibility": null,
            "width": null
          }
        },
        "5ad7a7edb0f4482fa4e6d08ecd2df365": {
          "model_module": "@jupyter-widgets/controls",
          "model_name": "ProgressStyleModel",
          "model_module_version": "1.5.0",
          "state": {
            "_model_module": "@jupyter-widgets/controls",
            "_model_module_version": "1.5.0",
            "_model_name": "ProgressStyleModel",
            "_view_count": null,
            "_view_module": "@jupyter-widgets/base",
            "_view_module_version": "1.2.0",
            "_view_name": "StyleView",
            "bar_color": null,
            "description_width": ""
          }
        },
        "d3178beb5a114a65a401be4f4c29bc39": {
          "model_module": "@jupyter-widgets/base",
          "model_name": "LayoutModel",
          "model_module_version": "1.2.0",
          "state": {
            "_model_module": "@jupyter-widgets/base",
            "_model_module_version": "1.2.0",
            "_model_name": "LayoutModel",
            "_view_count": null,
            "_view_module": "@jupyter-widgets/base",
            "_view_module_version": "1.2.0",
            "_view_name": "LayoutView",
            "align_content": null,
            "align_items": null,
            "align_self": null,
            "border": null,
            "bottom": null,
            "display": null,
            "flex": null,
            "flex_flow": null,
            "grid_area": null,
            "grid_auto_columns": null,
            "grid_auto_flow": null,
            "grid_auto_rows": null,
            "grid_column": null,
            "grid_gap": null,
            "grid_row": null,
            "grid_template_areas": null,
            "grid_template_columns": null,
            "grid_template_rows": null,
            "height": null,
            "justify_content": null,
            "justify_items": null,
            "left": null,
            "margin": null,
            "max_height": null,
            "max_width": null,
            "min_height": null,
            "min_width": null,
            "object_fit": null,
            "object_position": null,
            "order": null,
            "overflow": null,
            "overflow_x": null,
            "overflow_y": null,
            "padding": null,
            "right": null,
            "top": null,
            "visibility": null,
            "width": null
          }
        },
        "a58211129a9946a1b403e462a1f73e60": {
          "model_module": "@jupyter-widgets/controls",
          "model_name": "DescriptionStyleModel",
          "model_module_version": "1.5.0",
          "state": {
            "_model_module": "@jupyter-widgets/controls",
            "_model_module_version": "1.5.0",
            "_model_name": "DescriptionStyleModel",
            "_view_count": null,
            "_view_module": "@jupyter-widgets/base",
            "_view_module_version": "1.2.0",
            "_view_name": "StyleView",
            "description_width": ""
          }
        }
      }
    }
  },
  "nbformat": 4,
  "nbformat_minor": 0
}